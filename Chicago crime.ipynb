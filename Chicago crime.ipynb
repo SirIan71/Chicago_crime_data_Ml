{
 "cells": [
  {
   "cell_type": "markdown",
   "id": "655490d3-6b05-4d38-b2b0-0c8b2563ca10",
   "metadata": {},
   "source": [
    "# Chicago Crime Classifier for Crimes Committed \n"
   ]
  },
  {
   "cell_type": "markdown",
   "id": "8b282b4e",
   "metadata": {},
   "source": [
    "## Business and Data understanding\n",
    "\n",
    "Business Understanding\n",
    "1. **Project Background:**\n",
    "The City of Chicago has been facing persistent issues related to crime, impacting the safety and well-being of its residents. With over 1.5 million crime reports recorded between 2015 and 2020, the sheer volume and complexity of the data make it challenging for law enforcement agencies to analyze and respond effectively to criminal activities. Utilizing advanced data analytics and machine learning techniques presents an opportunity to transform raw crime data into actionable insights, enhancing the city's ability to prevent and manage crime.\n",
    "\n",
    "2. **Key Stakeholders:**\n",
    "Law Enforcement Agencies: Primary users of the crime classifier, benefiting from data-driven insights to improve resource allocation, crime prevention strategies, and operational efficiency.\n",
    "\n",
    "- City Government and Public Safety Officials: Utilize insights from the classifier to inform policy decisions, budget allocations, and community safety initiatives."
   ]
  },
  {
   "cell_type": "markdown",
   "id": "9d4f3fdd-b128-4881-b382-a2f95bd948e4",
   "metadata": {},
   "source": [
    "## Overview\n",
    "\n",
    "Chicago, one of the largest cities in the United States, has a long history of grappling with crime. According to data from cityofchicago.org, the city experiences a wide range of criminal activities, including theft, assault, burglary, and drug-related offenses. The dataset, which spans from beggining of 2024 to the present, reveals that certain types of crime are more prevalent in specific neighborhoods and times, highlighting the complexity and diversity of criminal behavior in the city. For instance, theft and drug-related crimes are among the most frequently reported incidents.\n"
   ]
  },
  {
   "cell_type": "markdown",
   "id": "a7b9ac83",
   "metadata": {},
   "source": [
    "## Challanges\n",
    "\n",
    "- **High Crime Rates:** Despite various efforts by law enforcement, certain areas of Chicago continue to experience high crime rates, affecting residents' quality of life and safety.\n",
    "- **Resource Allocation:** Efficiently allocating police resources is challenging due to the unpredictable nature of crimes and the vast geographical area of the city.\n",
    "- **Crime Prevention:** Developing effective crime prevention strategies requires detailed insights into crime patterns, which can be difficult to analyze manually given the large volume of data\n",
    "- **Public Perception and Trust:** High crime rates can erode public trust in law enforcement, making community cooperation in crime prevention efforts more difficult.\n"
   ]
  },
  {
   "cell_type": "markdown",
   "id": "012145ce",
   "metadata": {},
   "source": [
    "## Proposed solution\n",
    "The proposed solution involves developing a crime classifier using machine learning techniques to analyze and predict criminal activities in Chicago. By leveraging historical crime data, the classifier can identify patterns and trends, enabling law enforcement agencies to allocate resources more effectively and implement proactive measures. "
   ]
  },
  {
   "cell_type": "markdown",
   "id": "f398774a",
   "metadata": {},
   "source": [
    "## Brief conclusion\n",
    "The implementation of a crime classifier for Chicago has the potential to significantly enhance the city's ability to combat crime. By leveraging data-driven insights, law enforcement can make more informed decisions, allocate resources more efficiently, and develop targeted crime prevention strategies. This approach not only aims to reduce crime rates but also to restore public trust and improve the overall safety and quality of life for Chicago's residents."
   ]
  },
  {
   "cell_type": "markdown",
   "id": "3514d834",
   "metadata": {},
   "source": [
    "## Problem statement\n",
    "The city of Chicago faces a persistent challenge of high crime rates and inefficient resource allocation for crime prevention. The unpredictability and diversity of criminal activities make it difficult for law enforcement agencies to effectively combat crime and ensure public safety.\n"
   ]
  },
  {
   "cell_type": "markdown",
   "id": "df715dbe",
   "metadata": {},
   "source": [
    "## Objectives\n",
    "- **Analyze Crime Data:** Conduct a comprehensive analysis of historical crime data to identify patterns and trends.\n",
    "- **Develop a Crime Classifier:** Build and train machine learning models to classify and predict criminal activities based on historical data.\n",
    "- **Evaluate Model Performance:** Assess the accuracy and effectiveness of different models to determine the best approach for crime prediction.\n",
    "- **Enhance Resource Allocation:** Use the insights gained from the classifier to optimize the allocation of police resources and improve response strategies.\n",
    "- **Improve Crime Prevention:** Develop proactive measures and targeted strategies to prevent crime and enhance public safety in Chicago."
   ]
  },
  {
   "cell_type": "markdown",
   "id": "e2317b95-8d19-47d5-bd2f-9f71eb5679b3",
   "metadata": {},
   "source": [
    "## Data Understanding"
   ]
  },
  {
   "cell_type": "markdown",
   "id": "e0338259-777b-4ae5-9a9e-dc9af9ddc663",
   "metadata": {},
   "source": [
    "The chicago crime data is got from https://data.cityofchicago.org/Public-Safety/Crimes-2001-to-Present/ijzp-q8t2/about_data\n",
    "\n",
    "The city of Chicago portal for the year 2024\n",
    "\n",
    "It contains features such as \n",
    "Here are the columns that I have chosen to include (after carefully eliminating a few others):\n",
    "\n",
    "- Date: This column represents the timestamp of the incident. From this column, I have extracted the Month, Day, and Hour information. We can also add additional time-based columns such as Week and Day of the Week, among others.\n",
    "- Block: This column provides a partially redacted address where the incident occurred, indicating the same block as the actual address.\n",
    "- IUCR: The acronym stands for Illinois Uniform Crime Reporting. This code is directly linked to the Primary Type and Description. You can find more information about it in this link.\n",
    "- Primary Type: This column describes the primary category of the IUCR code mentioned above.\n",
    "- Description: This column provides a secondary description of the IUCR code, serving as a subcategory of the primary description.\n",
    "- Location Description: Here, you can find the description of the location where the incident took place.\n",
    "- Arrest: This column indicates whether an arrest was made in relation to the incident.\n",
    "- Domestic: It shows whether the incident was domestic-related, as defined by the Illinois Domestic Violence Act.\n",
    "- Beat: The beat refers to the smallest police geographic area, with each beat having a dedicated territory. You can find more information about it in this link.\n",
    "- District: This column represents the police district where the incident occurred.\n",
    "- Ward: It refers to the number that labels the City Council district where the incident took place.\n",
    "- Community Areas: This column indicates the community area where the incident occurred. Chicago has a total of 77 community areas.\n",
    "- FBI Code: The crime classification outlined in the FBI's National Incident-Based Reporting System (NIBRS).\n",
    "- X-Coordinate, Y-Coordinate, Latitude, Longitude, Location: These columns provide information about the geographical coordinates of the incident location, including latitude and longitude. The \"Location\" column contains just the latitude and longitude coordinates.\n",
    "- Year, Updated On: These columns represent the year of the incident and the date on which the dataset was last updated."
   ]
  },
  {
   "cell_type": "markdown",
   "id": "4c1c5f58-0885-4b90-b163-ec38cf3eeffe",
   "metadata": {},
   "source": [
    "## Data preparation"
   ]
  },
  {
   "cell_type": "markdown",
   "id": "c7814417",
   "metadata": {},
   "source": [
    "### Importing necessary libraries"
   ]
  },
  {
   "cell_type": "markdown",
   "id": "61793413",
   "metadata": {},
   "source": [
    "In the following cell, we are importing several libraries that we will use throughout this notebook. Libraries like `numpy` and `pandas` are fundamental for data manipulation and analysis. `matplotlib` and `seaborn` are used for data visualization.`sklearn` provides tools for data mining and data analysis."
   ]
  },
  {
   "cell_type": "code",
   "execution_count": 95,
   "id": "7c404fef-3dcc-4992-b88e-c402066ebfeb",
   "metadata": {},
   "outputs": [],
   "source": [
    "# Import Libraries\n",
    "import pandas as pd\n",
    "import numpy as np\n",
    "import matplotlib.pyplot as plt\n",
    "import seaborn as sns\n",
    "from sklearn.model_selection import train_test_split\n",
    "from sklearn.preprocessing import StandardScaler\n",
    "from sklearn.ensemble import RandomForestClassifier\n",
    "#from sklearn.model_selection import logisticRegression\n",
    "from sklearn.metrics import classification_report, confusion_matrix, accuracy_score"
   ]
  },
  {
   "cell_type": "markdown",
   "id": "875501f2",
   "metadata": {},
   "source": [
    "### Data overview"
   ]
  },
  {
   "cell_type": "markdown",
   "id": "203f48a1",
   "metadata": {},
   "source": [
    "Define classes for data loading, preparation and cleaning"
   ]
  },
  {
   "cell_type": "code",
   "execution_count": 96,
   "id": "536ef6fd",
   "metadata": {},
   "outputs": [
    {
     "name": "stdout",
     "output_type": "stream",
     "text": [
      "Data loaded successfully.\n",
      "         ID Case Number                    Date                   Block  IUCR  \\\n",
      "0  13477487    JH283625  05/29/2024 12:00:00 AM    034XX W DIVERSEY AVE  0820   \n",
      "1  13477597    JH284632  05/29/2024 12:00:00 AM  011XX S CALIFORNIA AVE  0820   \n",
      "2  13476431    JH283168  05/29/2024 12:00:00 AM      036XX W AINSLIE ST  1330   \n",
      "3  13478047    JH285292  05/29/2024 12:00:00 AM       060XX W GRAND AVE  2826   \n",
      "4  13477155    JH284171  05/29/2024 12:00:00 AM       002XX S WACKER DR  1330   \n",
      "\n",
      "        Primary Type                     Description  \\\n",
      "0              THEFT                  $500 AND UNDER   \n",
      "1              THEFT                  $500 AND UNDER   \n",
      "2  CRIMINAL TRESPASS                         TO LAND   \n",
      "3      OTHER OFFENSE  HARASSMENT BY ELECTRONIC MEANS   \n",
      "4  CRIMINAL TRESPASS                         TO LAND   \n",
      "\n",
      "           Location Description  Arrest  Domestic  ...  Ward  Community Area  \\\n",
      "0              DEPARTMENT STORE   False     False  ...    35              22   \n",
      "1                     APARTMENT   False      True  ...    28              29   \n",
      "2                     APARTMENT   False     False  ...    33              14   \n",
      "3                     APARTMENT   False     False  ...    36              19   \n",
      "4  COMMERCIAL / BUSINESS OFFICE    True     False  ...    42              32   \n",
      "\n",
      "   FBI Code  X Coordinate Y Coordinate  Year              Updated On  \\\n",
      "0        06     1153078.0    1918408.0  2024  06/05/2024 03:41:03 PM   \n",
      "1        06     1157861.0    1895062.0  2024  06/05/2024 03:41:03 PM   \n",
      "2        26     1151380.0    1932317.0  2024  06/05/2024 03:41:03 PM   \n",
      "3        26     1135571.0    1914247.0  2024  06/05/2024 03:41:03 PM   \n",
      "4        26     1173971.0    1899133.0  2024  06/05/2024 03:41:03 PM   \n",
      "\n",
      "    Latitude  Longitude                            Location  \n",
      "0  41.931963 -87.712876  POINT (-87.712876373 41.931962854)  \n",
      "1  41.867803 -87.695937  POINT (-87.695936906 41.867803094)  \n",
      "2  41.970164 -87.718750  POINT (-87.718749784 41.970163724)  \n",
      "3  41.920874 -87.777312   POINT (-87.777312117 41.92087423)  \n",
      "4  41.878631 -87.636673  POINT (-87.636673298 41.878630716)  \n",
      "\n",
      "[5 rows x 22 columns]\n",
      "                  count          mean            std           min  \\\n",
      "ID              99534.0  1.337616e+07  599036.227159  2.793200e+04   \n",
      "Beat            99534.0  1.159273e+03     712.269797  1.110000e+02   \n",
      "District        99534.0  1.136253e+01       7.117168  1.000000e+00   \n",
      "Ward            99534.0  2.313276e+01      13.957391  1.000000e+00   \n",
      "Community Area  99534.0  3.624639e+01      21.672239  1.000000e+00   \n",
      "X Coordinate    99448.0  1.165275e+06   16197.211545  1.092711e+06   \n",
      "Y Coordinate    99448.0  1.887597e+06   31842.398229  1.813897e+06   \n",
      "Year            99534.0  2.024000e+03       0.000000  2.024000e+03   \n",
      "Latitude        99448.0  4.184715e+01       0.087561  4.164459e+01   \n",
      "Longitude       99448.0 -8.766897e+01       0.058971 -8.793432e+01   \n",
      "\n",
      "                         25%           50%           75%           max  \n",
      "ID              1.336511e+07  1.340317e+07  1.344057e+07  1.348422e+07  \n",
      "Beat            5.330000e+02  1.033000e+03  1.732000e+03  2.535000e+03  \n",
      "District        5.000000e+00  1.000000e+01  1.700000e+01  3.100000e+01  \n",
      "Ward            1.000000e+01  2.300000e+01  3.400000e+01  5.000000e+01  \n",
      "Community Area  2.200000e+01  3.200000e+01  5.300000e+01  7.700000e+01  \n",
      "X Coordinate    1.153986e+06  1.167084e+06  1.176636e+06  1.205117e+06  \n",
      "Y Coordinate    1.860025e+06  1.894170e+06  1.910516e+06  1.951493e+06  \n",
      "Year            2.024000e+03  2.024000e+03  2.024000e+03  2.024000e+03  \n",
      "Latitude        4.177142e+01  4.186540e+01  4.191014e+01  4.202254e+01  \n",
      "Longitude      -8.771006e+01 -8.766222e+01 -8.762736e+01 -8.752453e+01  \n",
      "ID                        0\n",
      "Case Number               0\n",
      "Date                      0\n",
      "Block                     0\n",
      "IUCR                      0\n",
      "Primary Type              0\n",
      "Description               0\n",
      "Location Description    396\n",
      "Arrest                    0\n",
      "Domestic                  0\n",
      "Beat                      0\n",
      "District                  0\n",
      "Ward                      0\n",
      "Community Area            0\n",
      "FBI Code                  0\n",
      "X Coordinate             86\n",
      "Y Coordinate             86\n",
      "Year                      0\n",
      "Updated On                0\n",
      "Latitude                 86\n",
      "Longitude                86\n",
      "Location                 86\n",
      "dtype: int64\n",
      "Number of duplicate rows = 0\n"
     ]
    }
   ],
   "source": [
    "class DataLoader:\n",
    "    def __init__(self, file_path):\n",
    "        self.file_path = file_path\n",
    "        self.data = None\n",
    "        \n",
    "    #Load data from CSV file.\n",
    "    def load_data(self):\n",
    "        self.data = pd.read_csv(self.file_path)\n",
    "        print(\"Data loaded successfully.\")\n",
    "    \n",
    "        \n",
    "    def display_head(self, n=5):\n",
    "        print(self.data.head(n))\n",
    "\n",
    "    # describe data\n",
    "    def describe_data(self):\n",
    "        print(self.data.describe().transpose())\n",
    "    \n",
    "    # Provide info about the DataFrame.\n",
    "    def info_data(self):\n",
    "        print(self.data.info())\n",
    "\n",
    "    # check missing values\n",
    "    def check_missing_values(self):\n",
    "        print(self.data.isnull().sum())\n",
    "        \n",
    "    # Drop missing values\n",
    "    def drop_missing_values(self):\n",
    "        self.data.dropna(inplace=True)\n",
    "        return self.data\n",
    "\n",
    "    # Check for duplicate rows in the DataFrame.\n",
    "    def check_duplicates(self):\n",
    "        duplicates = self.data.duplicated()\n",
    "        print(f\"Number of duplicate rows = {duplicates.sum()}\")\n",
    "        \n",
    "       \n",
    "\n",
    "# execution:\n",
    "file_path = 'Crimes_-_2024_20240607.csv'\n",
    "data_loader = DataLoader(file_path)\n",
    "data_loader.load_data()\n",
    "data_loader.display_head()\n",
    "data_loader.describe_data()\n",
    "data_loader.check_missing_values()\n",
    "data_loader.check_duplicates()\n"
   ]
  },
  {
   "cell_type": "markdown",
   "id": "8a34c56b",
   "metadata": {},
   "source": [
    "We can see that we have a few missing values on Location such as , X and Y coordinate latitude,longitude and location each missing 86 values. Location Description 396"
   ]
  },
  {
   "cell_type": "code",
   "execution_count": 97,
   "id": "40f16249",
   "metadata": {},
   "outputs": [
    {
     "name": "stdout",
     "output_type": "stream",
     "text": [
      "<class 'pandas.core.frame.DataFrame'>\n",
      "RangeIndex: 99534 entries, 0 to 99533\n",
      "Data columns (total 22 columns):\n",
      " #   Column                Non-Null Count  Dtype  \n",
      "---  ------                --------------  -----  \n",
      " 0   ID                    99534 non-null  int64  \n",
      " 1   Case Number           99534 non-null  object \n",
      " 2   Date                  99534 non-null  object \n",
      " 3   Block                 99534 non-null  object \n",
      " 4   IUCR                  99534 non-null  object \n",
      " 5   Primary Type          99534 non-null  object \n",
      " 6   Description           99534 non-null  object \n",
      " 7   Location Description  99138 non-null  object \n",
      " 8   Arrest                99534 non-null  bool   \n",
      " 9   Domestic              99534 non-null  bool   \n",
      " 10  Beat                  99534 non-null  int64  \n",
      " 11  District              99534 non-null  int64  \n",
      " 12  Ward                  99534 non-null  int64  \n",
      " 13  Community Area        99534 non-null  int64  \n",
      " 14  FBI Code              99534 non-null  object \n",
      " 15  X Coordinate          99448 non-null  float64\n",
      " 16  Y Coordinate          99448 non-null  float64\n",
      " 17  Year                  99534 non-null  int64  \n",
      " 18  Updated On            99534 non-null  object \n",
      " 19  Latitude              99448 non-null  float64\n",
      " 20  Longitude             99448 non-null  float64\n",
      " 21  Location              99448 non-null  object \n",
      "dtypes: bool(2), float64(4), int64(6), object(10)\n",
      "memory usage: 15.4+ MB\n",
      "None\n"
     ]
    }
   ],
   "source": [
    "data_loader.info_data()"
   ]
  },
  {
   "cell_type": "markdown",
   "id": "ae7ba868",
   "metadata": {},
   "source": [
    "The dataset has 99534 rows and 21 columns"
   ]
  },
  {
   "cell_type": "markdown",
   "id": "11341f30",
   "metadata": {},
   "source": [
    "Lets remove the missing values."
   ]
  },
  {
   "cell_type": "code",
   "execution_count": 98,
   "id": "c8568c81",
   "metadata": {},
   "outputs": [
    {
     "name": "stdout",
     "output_type": "stream",
     "text": [
      "ID                      0\n",
      "Case Number             0\n",
      "Date                    0\n",
      "Block                   0\n",
      "IUCR                    0\n",
      "Primary Type            0\n",
      "Description             0\n",
      "Location Description    0\n",
      "Arrest                  0\n",
      "Domestic                0\n",
      "Beat                    0\n",
      "District                0\n",
      "Ward                    0\n",
      "Community Area          0\n",
      "FBI Code                0\n",
      "X Coordinate            0\n",
      "Y Coordinate            0\n",
      "Year                    0\n",
      "Updated On              0\n",
      "Latitude                0\n",
      "Longitude               0\n",
      "Location                0\n",
      "dtype: int64\n"
     ]
    }
   ],
   "source": [
    "data_loader.drop_missing_values()\n",
    "data_loader.check_missing_values()\n"
   ]
  },
  {
   "cell_type": "code",
   "execution_count": 99,
   "id": "a1c985dc",
   "metadata": {},
   "outputs": [
    {
     "data": {
      "text/html": [
       "<div>\n",
       "<style scoped>\n",
       "    .dataframe tbody tr th:only-of-type {\n",
       "        vertical-align: middle;\n",
       "    }\n",
       "\n",
       "    .dataframe tbody tr th {\n",
       "        vertical-align: top;\n",
       "    }\n",
       "\n",
       "    .dataframe thead th {\n",
       "        text-align: right;\n",
       "    }\n",
       "</style>\n",
       "<table border=\"1\" class=\"dataframe\">\n",
       "  <thead>\n",
       "    <tr style=\"text-align: right;\">\n",
       "      <th></th>\n",
       "      <th>ID</th>\n",
       "      <th>Case Number</th>\n",
       "      <th>Date</th>\n",
       "      <th>Block</th>\n",
       "      <th>IUCR</th>\n",
       "      <th>Primary Type</th>\n",
       "      <th>Description</th>\n",
       "      <th>Location Description</th>\n",
       "      <th>Arrest</th>\n",
       "      <th>Domestic</th>\n",
       "      <th>...</th>\n",
       "      <th>Ward</th>\n",
       "      <th>Community Area</th>\n",
       "      <th>FBI Code</th>\n",
       "      <th>X Coordinate</th>\n",
       "      <th>Y Coordinate</th>\n",
       "      <th>Year</th>\n",
       "      <th>Updated On</th>\n",
       "      <th>Latitude</th>\n",
       "      <th>Longitude</th>\n",
       "      <th>Location</th>\n",
       "    </tr>\n",
       "  </thead>\n",
       "  <tbody>\n",
       "    <tr>\n",
       "      <th>0</th>\n",
       "      <td>13477487</td>\n",
       "      <td>JH283625</td>\n",
       "      <td>05/29/2024 12:00:00 AM</td>\n",
       "      <td>034XX W DIVERSEY AVE</td>\n",
       "      <td>0820</td>\n",
       "      <td>THEFT</td>\n",
       "      <td>$500 AND UNDER</td>\n",
       "      <td>DEPARTMENT STORE</td>\n",
       "      <td>False</td>\n",
       "      <td>False</td>\n",
       "      <td>...</td>\n",
       "      <td>35</td>\n",
       "      <td>22</td>\n",
       "      <td>06</td>\n",
       "      <td>1153078.0</td>\n",
       "      <td>1918408.0</td>\n",
       "      <td>2024</td>\n",
       "      <td>06/05/2024 03:41:03 PM</td>\n",
       "      <td>41.931963</td>\n",
       "      <td>-87.712876</td>\n",
       "      <td>POINT (-87.712876373 41.931962854)</td>\n",
       "    </tr>\n",
       "    <tr>\n",
       "      <th>1</th>\n",
       "      <td>13477597</td>\n",
       "      <td>JH284632</td>\n",
       "      <td>05/29/2024 12:00:00 AM</td>\n",
       "      <td>011XX S CALIFORNIA AVE</td>\n",
       "      <td>0820</td>\n",
       "      <td>THEFT</td>\n",
       "      <td>$500 AND UNDER</td>\n",
       "      <td>APARTMENT</td>\n",
       "      <td>False</td>\n",
       "      <td>True</td>\n",
       "      <td>...</td>\n",
       "      <td>28</td>\n",
       "      <td>29</td>\n",
       "      <td>06</td>\n",
       "      <td>1157861.0</td>\n",
       "      <td>1895062.0</td>\n",
       "      <td>2024</td>\n",
       "      <td>06/05/2024 03:41:03 PM</td>\n",
       "      <td>41.867803</td>\n",
       "      <td>-87.695937</td>\n",
       "      <td>POINT (-87.695936906 41.867803094)</td>\n",
       "    </tr>\n",
       "    <tr>\n",
       "      <th>2</th>\n",
       "      <td>13476431</td>\n",
       "      <td>JH283168</td>\n",
       "      <td>05/29/2024 12:00:00 AM</td>\n",
       "      <td>036XX W AINSLIE ST</td>\n",
       "      <td>1330</td>\n",
       "      <td>CRIMINAL TRESPASS</td>\n",
       "      <td>TO LAND</td>\n",
       "      <td>APARTMENT</td>\n",
       "      <td>False</td>\n",
       "      <td>False</td>\n",
       "      <td>...</td>\n",
       "      <td>33</td>\n",
       "      <td>14</td>\n",
       "      <td>26</td>\n",
       "      <td>1151380.0</td>\n",
       "      <td>1932317.0</td>\n",
       "      <td>2024</td>\n",
       "      <td>06/05/2024 03:41:03 PM</td>\n",
       "      <td>41.970164</td>\n",
       "      <td>-87.718750</td>\n",
       "      <td>POINT (-87.718749784 41.970163724)</td>\n",
       "    </tr>\n",
       "    <tr>\n",
       "      <th>3</th>\n",
       "      <td>13478047</td>\n",
       "      <td>JH285292</td>\n",
       "      <td>05/29/2024 12:00:00 AM</td>\n",
       "      <td>060XX W GRAND AVE</td>\n",
       "      <td>2826</td>\n",
       "      <td>OTHER OFFENSE</td>\n",
       "      <td>HARASSMENT BY ELECTRONIC MEANS</td>\n",
       "      <td>APARTMENT</td>\n",
       "      <td>False</td>\n",
       "      <td>False</td>\n",
       "      <td>...</td>\n",
       "      <td>36</td>\n",
       "      <td>19</td>\n",
       "      <td>26</td>\n",
       "      <td>1135571.0</td>\n",
       "      <td>1914247.0</td>\n",
       "      <td>2024</td>\n",
       "      <td>06/05/2024 03:41:03 PM</td>\n",
       "      <td>41.920874</td>\n",
       "      <td>-87.777312</td>\n",
       "      <td>POINT (-87.777312117 41.92087423)</td>\n",
       "    </tr>\n",
       "    <tr>\n",
       "      <th>4</th>\n",
       "      <td>13477155</td>\n",
       "      <td>JH284171</td>\n",
       "      <td>05/29/2024 12:00:00 AM</td>\n",
       "      <td>002XX S WACKER DR</td>\n",
       "      <td>1330</td>\n",
       "      <td>CRIMINAL TRESPASS</td>\n",
       "      <td>TO LAND</td>\n",
       "      <td>COMMERCIAL / BUSINESS OFFICE</td>\n",
       "      <td>True</td>\n",
       "      <td>False</td>\n",
       "      <td>...</td>\n",
       "      <td>42</td>\n",
       "      <td>32</td>\n",
       "      <td>26</td>\n",
       "      <td>1173971.0</td>\n",
       "      <td>1899133.0</td>\n",
       "      <td>2024</td>\n",
       "      <td>06/05/2024 03:41:03 PM</td>\n",
       "      <td>41.878631</td>\n",
       "      <td>-87.636673</td>\n",
       "      <td>POINT (-87.636673298 41.878630716)</td>\n",
       "    </tr>\n",
       "  </tbody>\n",
       "</table>\n",
       "<p>5 rows × 22 columns</p>\n",
       "</div>"
      ],
      "text/plain": [
       "         ID Case Number                    Date                   Block  IUCR  \\\n",
       "0  13477487    JH283625  05/29/2024 12:00:00 AM    034XX W DIVERSEY AVE  0820   \n",
       "1  13477597    JH284632  05/29/2024 12:00:00 AM  011XX S CALIFORNIA AVE  0820   \n",
       "2  13476431    JH283168  05/29/2024 12:00:00 AM      036XX W AINSLIE ST  1330   \n",
       "3  13478047    JH285292  05/29/2024 12:00:00 AM       060XX W GRAND AVE  2826   \n",
       "4  13477155    JH284171  05/29/2024 12:00:00 AM       002XX S WACKER DR  1330   \n",
       "\n",
       "        Primary Type                     Description  \\\n",
       "0              THEFT                  $500 AND UNDER   \n",
       "1              THEFT                  $500 AND UNDER   \n",
       "2  CRIMINAL TRESPASS                         TO LAND   \n",
       "3      OTHER OFFENSE  HARASSMENT BY ELECTRONIC MEANS   \n",
       "4  CRIMINAL TRESPASS                         TO LAND   \n",
       "\n",
       "           Location Description  Arrest  Domestic  ...  Ward  Community Area  \\\n",
       "0              DEPARTMENT STORE   False     False  ...    35              22   \n",
       "1                     APARTMENT   False      True  ...    28              29   \n",
       "2                     APARTMENT   False     False  ...    33              14   \n",
       "3                     APARTMENT   False     False  ...    36              19   \n",
       "4  COMMERCIAL / BUSINESS OFFICE    True     False  ...    42              32   \n",
       "\n",
       "   FBI Code  X Coordinate Y Coordinate  Year              Updated On  \\\n",
       "0        06     1153078.0    1918408.0  2024  06/05/2024 03:41:03 PM   \n",
       "1        06     1157861.0    1895062.0  2024  06/05/2024 03:41:03 PM   \n",
       "2        26     1151380.0    1932317.0  2024  06/05/2024 03:41:03 PM   \n",
       "3        26     1135571.0    1914247.0  2024  06/05/2024 03:41:03 PM   \n",
       "4        26     1173971.0    1899133.0  2024  06/05/2024 03:41:03 PM   \n",
       "\n",
       "    Latitude  Longitude                            Location  \n",
       "0  41.931963 -87.712876  POINT (-87.712876373 41.931962854)  \n",
       "1  41.867803 -87.695937  POINT (-87.695936906 41.867803094)  \n",
       "2  41.970164 -87.718750  POINT (-87.718749784 41.970163724)  \n",
       "3  41.920874 -87.777312   POINT (-87.777312117 41.92087423)  \n",
       "4  41.878631 -87.636673  POINT (-87.636673298 41.878630716)  \n",
       "\n",
       "[5 rows x 22 columns]"
      ]
     },
     "execution_count": 99,
     "metadata": {},
     "output_type": "execute_result"
    }
   ],
   "source": [
    "# Create a new DataFrame once missing values are dropped\n",
    "cleaned_data = data_loader.data\n",
    "\n",
    "cleaned_data.head()"
   ]
  },
  {
   "cell_type": "markdown",
   "id": "c766f54f",
   "metadata": {},
   "source": [
    "A significant number of columns, such as crime IDs and their Case Numbers, are not usable since they are sequential data that only serve to represent crimes.\n",
    "\n",
    "The IUCR, which is the Illinois Uniform Crime Reporting code, is linked to the Primary Type attribute. These codes and their meanings can be found via this link. The FBI Code is also a code assigned by the FBI to the crime:\n",
    "\n",
    "Indicates the crime classification as outlined in the FBI's National Incident-Based Reporting System (NIBRS). See the Chicago Police Department listing of these classifications at http://gis.chicagopolice.org/clearmap_crime_sums/crime_types.html.\n",
    "\n",
    "The detailed Description of the crime is not really usable in our context either, as is the date of the update of the information concerning the crime Updated On.\n",
    "\n",
    "The Location attribute is a tuple of two elements that are the Latitude and Longitude that we already have as two separate attributes, so we can remove it.\n",
    "\n",
    "The Year column is irrelevant as the dataset contains data for the year 2024 only.\n",
    "\n",
    "X Coordinate and Y Coordinate represent the location where the crime occurred (as well as Latitude and Longitude) according to the State Plane Illinois East NAD 1983 projection. We can do without them since they circulate the same information as other attributes.\n",
    "\n",
    "Finally, the Block attribute contains the partial address of the location where the crime took place in the form of a string. The attribute circulates many different values (even keeping only the street names, which we tried and then deleted to avoid adding too many cells to the notebook), so it is difficult to encode them into something usable. Therefore, we have decided to remove this attribute.\n",
    "\n",
    "In the next cell, we remove the attributes mentioned above. But we also remove the rows that count null values with the dropna() function since the proportion of these rows is not large compared to the size of the entire dataset.\n",
    "\n",
    "We then display the resulting DataFrame."
   ]
  },
  {
   "cell_type": "code",
   "execution_count": 100,
   "id": "115e3570",
   "metadata": {},
   "outputs": [
    {
     "data": {
      "text/html": [
       "<div>\n",
       "<style scoped>\n",
       "    .dataframe tbody tr th:only-of-type {\n",
       "        vertical-align: middle;\n",
       "    }\n",
       "\n",
       "    .dataframe tbody tr th {\n",
       "        vertical-align: top;\n",
       "    }\n",
       "\n",
       "    .dataframe thead th {\n",
       "        text-align: right;\n",
       "    }\n",
       "</style>\n",
       "<table border=\"1\" class=\"dataframe\">\n",
       "  <thead>\n",
       "    <tr style=\"text-align: right;\">\n",
       "      <th></th>\n",
       "      <th>Date</th>\n",
       "      <th>Primary Type</th>\n",
       "      <th>Location Description</th>\n",
       "      <th>Arrest</th>\n",
       "      <th>Domestic</th>\n",
       "      <th>Beat</th>\n",
       "      <th>District</th>\n",
       "      <th>Ward</th>\n",
       "      <th>Community Area</th>\n",
       "      <th>Latitude</th>\n",
       "      <th>Longitude</th>\n",
       "    </tr>\n",
       "  </thead>\n",
       "  <tbody>\n",
       "    <tr>\n",
       "      <th>0</th>\n",
       "      <td>05/29/2024 12:00:00 AM</td>\n",
       "      <td>THEFT</td>\n",
       "      <td>DEPARTMENT STORE</td>\n",
       "      <td>False</td>\n",
       "      <td>False</td>\n",
       "      <td>1412</td>\n",
       "      <td>14</td>\n",
       "      <td>35</td>\n",
       "      <td>22</td>\n",
       "      <td>41.931963</td>\n",
       "      <td>-87.712876</td>\n",
       "    </tr>\n",
       "    <tr>\n",
       "      <th>1</th>\n",
       "      <td>05/29/2024 12:00:00 AM</td>\n",
       "      <td>THEFT</td>\n",
       "      <td>APARTMENT</td>\n",
       "      <td>False</td>\n",
       "      <td>True</td>\n",
       "      <td>1135</td>\n",
       "      <td>11</td>\n",
       "      <td>28</td>\n",
       "      <td>29</td>\n",
       "      <td>41.867803</td>\n",
       "      <td>-87.695937</td>\n",
       "    </tr>\n",
       "    <tr>\n",
       "      <th>2</th>\n",
       "      <td>05/29/2024 12:00:00 AM</td>\n",
       "      <td>CRIMINAL TRESPASS</td>\n",
       "      <td>APARTMENT</td>\n",
       "      <td>False</td>\n",
       "      <td>False</td>\n",
       "      <td>1712</td>\n",
       "      <td>17</td>\n",
       "      <td>33</td>\n",
       "      <td>14</td>\n",
       "      <td>41.970164</td>\n",
       "      <td>-87.718750</td>\n",
       "    </tr>\n",
       "    <tr>\n",
       "      <th>3</th>\n",
       "      <td>05/29/2024 12:00:00 AM</td>\n",
       "      <td>OTHER OFFENSE</td>\n",
       "      <td>APARTMENT</td>\n",
       "      <td>False</td>\n",
       "      <td>False</td>\n",
       "      <td>2512</td>\n",
       "      <td>25</td>\n",
       "      <td>36</td>\n",
       "      <td>19</td>\n",
       "      <td>41.920874</td>\n",
       "      <td>-87.777312</td>\n",
       "    </tr>\n",
       "    <tr>\n",
       "      <th>4</th>\n",
       "      <td>05/29/2024 12:00:00 AM</td>\n",
       "      <td>CRIMINAL TRESPASS</td>\n",
       "      <td>COMMERCIAL / BUSINESS OFFICE</td>\n",
       "      <td>True</td>\n",
       "      <td>False</td>\n",
       "      <td>122</td>\n",
       "      <td>1</td>\n",
       "      <td>42</td>\n",
       "      <td>32</td>\n",
       "      <td>41.878631</td>\n",
       "      <td>-87.636673</td>\n",
       "    </tr>\n",
       "    <tr>\n",
       "      <th>...</th>\n",
       "      <td>...</td>\n",
       "      <td>...</td>\n",
       "      <td>...</td>\n",
       "      <td>...</td>\n",
       "      <td>...</td>\n",
       "      <td>...</td>\n",
       "      <td>...</td>\n",
       "      <td>...</td>\n",
       "      <td>...</td>\n",
       "      <td>...</td>\n",
       "      <td>...</td>\n",
       "    </tr>\n",
       "    <tr>\n",
       "      <th>99529</th>\n",
       "      <td>01/01/2024 12:00:00 AM</td>\n",
       "      <td>DECEPTIVE PRACTICE</td>\n",
       "      <td>APARTMENT</td>\n",
       "      <td>False</td>\n",
       "      <td>False</td>\n",
       "      <td>1224</td>\n",
       "      <td>12</td>\n",
       "      <td>27</td>\n",
       "      <td>28</td>\n",
       "      <td>41.882917</td>\n",
       "      <td>-87.661073</td>\n",
       "    </tr>\n",
       "    <tr>\n",
       "      <th>99530</th>\n",
       "      <td>01/01/2024 12:00:00 AM</td>\n",
       "      <td>OFFENSE INVOLVING CHILDREN</td>\n",
       "      <td>RESIDENCE</td>\n",
       "      <td>False</td>\n",
       "      <td>True</td>\n",
       "      <td>834</td>\n",
       "      <td>8</td>\n",
       "      <td>18</td>\n",
       "      <td>70</td>\n",
       "      <td>41.736702</td>\n",
       "      <td>-87.720475</td>\n",
       "    </tr>\n",
       "    <tr>\n",
       "      <th>99531</th>\n",
       "      <td>01/01/2024 12:00:00 AM</td>\n",
       "      <td>THEFT</td>\n",
       "      <td>RESIDENCE</td>\n",
       "      <td>False</td>\n",
       "      <td>False</td>\n",
       "      <td>2234</td>\n",
       "      <td>22</td>\n",
       "      <td>21</td>\n",
       "      <td>75</td>\n",
       "      <td>41.687340</td>\n",
       "      <td>-87.649519</td>\n",
       "    </tr>\n",
       "    <tr>\n",
       "      <th>99532</th>\n",
       "      <td>01/01/2024 12:00:00 AM</td>\n",
       "      <td>OTHER OFFENSE</td>\n",
       "      <td>OTHER (SPECIFY)</td>\n",
       "      <td>False</td>\n",
       "      <td>False</td>\n",
       "      <td>614</td>\n",
       "      <td>6</td>\n",
       "      <td>18</td>\n",
       "      <td>71</td>\n",
       "      <td>41.738088</td>\n",
       "      <td>-87.672845</td>\n",
       "    </tr>\n",
       "    <tr>\n",
       "      <th>99533</th>\n",
       "      <td>01/01/2024 12:00:00 AM</td>\n",
       "      <td>OFFENSE INVOLVING CHILDREN</td>\n",
       "      <td>RESIDENCE</td>\n",
       "      <td>False</td>\n",
       "      <td>True</td>\n",
       "      <td>423</td>\n",
       "      <td>4</td>\n",
       "      <td>7</td>\n",
       "      <td>46</td>\n",
       "      <td>41.741860</td>\n",
       "      <td>-87.557578</td>\n",
       "    </tr>\n",
       "  </tbody>\n",
       "</table>\n",
       "<p>99054 rows × 11 columns</p>\n",
       "</div>"
      ],
      "text/plain": [
       "                         Date                Primary Type  \\\n",
       "0      05/29/2024 12:00:00 AM                       THEFT   \n",
       "1      05/29/2024 12:00:00 AM                       THEFT   \n",
       "2      05/29/2024 12:00:00 AM           CRIMINAL TRESPASS   \n",
       "3      05/29/2024 12:00:00 AM               OTHER OFFENSE   \n",
       "4      05/29/2024 12:00:00 AM           CRIMINAL TRESPASS   \n",
       "...                       ...                         ...   \n",
       "99529  01/01/2024 12:00:00 AM          DECEPTIVE PRACTICE   \n",
       "99530  01/01/2024 12:00:00 AM  OFFENSE INVOLVING CHILDREN   \n",
       "99531  01/01/2024 12:00:00 AM                       THEFT   \n",
       "99532  01/01/2024 12:00:00 AM               OTHER OFFENSE   \n",
       "99533  01/01/2024 12:00:00 AM  OFFENSE INVOLVING CHILDREN   \n",
       "\n",
       "               Location Description  Arrest  Domestic  Beat  District  Ward  \\\n",
       "0                  DEPARTMENT STORE   False     False  1412        14    35   \n",
       "1                         APARTMENT   False      True  1135        11    28   \n",
       "2                         APARTMENT   False     False  1712        17    33   \n",
       "3                         APARTMENT   False     False  2512        25    36   \n",
       "4      COMMERCIAL / BUSINESS OFFICE    True     False   122         1    42   \n",
       "...                             ...     ...       ...   ...       ...   ...   \n",
       "99529                     APARTMENT   False     False  1224        12    27   \n",
       "99530                     RESIDENCE   False      True   834         8    18   \n",
       "99531                     RESIDENCE   False     False  2234        22    21   \n",
       "99532               OTHER (SPECIFY)   False     False   614         6    18   \n",
       "99533                     RESIDENCE   False      True   423         4     7   \n",
       "\n",
       "       Community Area   Latitude  Longitude  \n",
       "0                  22  41.931963 -87.712876  \n",
       "1                  29  41.867803 -87.695937  \n",
       "2                  14  41.970164 -87.718750  \n",
       "3                  19  41.920874 -87.777312  \n",
       "4                  32  41.878631 -87.636673  \n",
       "...               ...        ...        ...  \n",
       "99529              28  41.882917 -87.661073  \n",
       "99530              70  41.736702 -87.720475  \n",
       "99531              75  41.687340 -87.649519  \n",
       "99532              71  41.738088 -87.672845  \n",
       "99533              46  41.741860 -87.557578  \n",
       "\n",
       "[99054 rows x 11 columns]"
      ]
     },
     "execution_count": 100,
     "metadata": {},
     "output_type": "execute_result"
    }
   ],
   "source": [
    "cleaned_data.drop(columns = ['ID', 'Case Number', 'Block', 'IUCR', 'Description', 'FBI Code',\n",
    "                   'X Coordinate', 'Y Coordinate', 'Updated On', 'Location','Year'], inplace = True)\n",
    "cleaned_data.dropna(inplace = True)\n",
    "cleaned_data"
   ]
  },
  {
   "cell_type": "markdown",
   "id": "6d0f0712",
   "metadata": {},
   "source": [
    "We can see that we have reduced the number of columns to 12."
   ]
  },
  {
   "cell_type": "markdown",
   "id": "6c367b5c-75c7-40af-b891-6772b98a397b",
   "metadata": {},
   "source": [
    "# Exploratory data analysis"
   ]
  },
  {
   "cell_type": "markdown",
   "id": "2205ad48",
   "metadata": {},
   "source": [
    "Before we do EDA, lets separate Numerical and categorical variables for easy analysis"
   ]
  },
  {
   "cell_type": "code",
   "execution_count": 101,
   "id": "4d64cb7b",
   "metadata": {},
   "outputs": [
    {
     "name": "stdout",
     "output_type": "stream",
     "text": [
      "Categorical Variables:\n",
      "Index(['Date', 'Primary Type', 'Location Description'], dtype='object')\n",
      "Numerical Variables:\n",
      "['Beat', 'District', 'Ward', 'Community Area', 'Latitude', 'Longitude']\n"
     ]
    }
   ],
   "source": [
    "cat_cols = cleaned_data.select_dtypes(include=['object']).columns\n",
    "num_cols = cleaned_data.select_dtypes(include=np.number).columns.tolist()\n",
    "print(\"Categorical Variables:\")\n",
    "print(cat_cols)\n",
    "print(\"Numerical Variables:\")\n",
    "print(num_cols)"
   ]
  },
  {
   "cell_type": "markdown",
   "id": "8d48cb3e",
   "metadata": {},
   "source": [
    "Encode categorical features"
   ]
  },
  {
   "cell_type": "markdown",
   "id": "ca0f5c7b",
   "metadata": {},
   "source": [
    "### Univariate analysis for numerical values"
   ]
  },
  {
   "cell_type": "code",
   "execution_count": 102,
   "id": "1ae813b6",
   "metadata": {},
   "outputs": [
    {
     "name": "stdout",
     "output_type": "stream",
     "text": [
      "Beat\n",
      "Skew : 0.35\n"
     ]
    },
    {
     "data": {
      "image/png": "[encoded data removed]",
      "text/plain": [
       "<Figure size 1500x400 with 2 Axes>"
      ]
     },
     "metadata": {},
     "output_type": "display_data"
    },
    {
     "name": "stdout",
     "output_type": "stream",
     "text": [
      "District\n",
      "Skew : 0.36\n"
     ]
    },
    {
     "data": {
      "image/png": "[encoded data removed]",
      "text/plain": [
       "<Figure size 1500x400 with 2 Axes>"
      ]
     },
     "metadata": {},
     "output_type": "display_data"
    },
    {
     "name": "stdout",
     "output_type": "stream",
     "text": [
      "Ward\n",
      "Skew : 0.19\n"
     ]
    },
    {
     "data": {
      "image/png": "[encoded data removed]",
      "text/plain": [
       "<Figure size 1500x400 with 2 Axes>"
      ]
     },
     "metadata": {},
     "output_type": "display_data"
    },
    {
     "name": "stdout",
     "output_type": "stream",
     "text": [
      "Community Area\n",
      "Skew : 0.24\n"
     ]
    },
    {
     "data": {
      "image/png": "[encoded data removed]",
      "text/plain": [
       "<Figure size 1500x400 with 2 Axes>"
      ]
     },
     "metadata": {},
     "output_type": "display_data"
    },
    {
     "name": "stdout",
     "output_type": "stream",
     "text": [
      "Latitude\n",
      "Skew : -0.1\n"
     ]
    },
    {
     "data": {
      "image/png": "[encoded data removed]",
      "text/plain": [
       "<Figure size 1500x400 with 2 Axes>"
      ]
     },
     "metadata": {},
     "output_type": "display_data"
    },
    {
     "name": "stdout",
     "output_type": "stream",
     "text": [
      "Longitude\n",
      "Skew : -0.4\n"
     ]
    },
    {
     "data": {
      "image/png": "[encoded data removed]",
      "text/plain": [
       "<Figure size 1500x400 with 2 Axes>"
      ]
     },
     "metadata": {},
     "output_type": "display_data"
    }
   ],
   "source": [
    "for col in num_cols:\n",
    "    print(col)\n",
    "    print('Skew :', round(cleaned_data[col].skew(), 2))\n",
    "    plt.figure(figsize = (15, 4))\n",
    "    plt.subplot(1, 2, 1)\n",
    "    cleaned_data[col].hist(grid=False)\n",
    "    plt.ylabel('count')\n",
    "    plt.subplot(1, 2, 2)\n",
    "    sns.boxplot(x=cleaned_data[col])\n",
    "    plt.show()\n"
   ]
  },
  {
   "cell_type": "markdown",
   "id": "4d9959bc",
   "metadata": {},
   "source": [
    "Observations\n",
    "\n",
    "- Arrest is skewed to the left as there are less arrests made\n",
    "- all the other numerical features have little skewness ranging between -0.4 to 0.4\n",
    "- we have a few ouliers in x coordinate and longitude"
   ]
  },
  {
   "cell_type": "markdown",
   "id": "3bca8d04",
   "metadata": {},
   "source": [
    "### Univariate analysis for categorical values"
   ]
  },
  {
   "cell_type": "code",
   "execution_count": 103,
   "id": "5806f0d6",
   "metadata": {},
   "outputs": [
    {
     "data": {
      "image/png": "[encoded data removed]",
      "text/plain": [
       "<Figure size 1200x600 with 1 Axes>"
      ]
     },
     "metadata": {},
     "output_type": "display_data"
    },
    {
     "data": {
      "image/png": "[encoded data removed]",
      "text/plain": [
       "<Figure size 1200x600 with 1 Axes>"
      ]
     },
     "metadata": {},
     "output_type": "display_data"
    }
   ],
   "source": [
    "# Plotting distributions of some key features\n",
    "plt.figure(figsize=(12, 6))\n",
    "sns.countplot(x='Primary Type', data=cleaned_data, order=cleaned_data['Primary Type'].value_counts().index)\n",
    "plt.xticks(rotation=90)\n",
    "plt.title('Distribution of Crime Types')\n",
    "plt.show()\n",
    "\n",
    "plt.figure(figsize=(12, 6))\n",
    "sns.countplot(x='Arrest', data=cleaned_data)\n",
    "plt.title('Distribution of Arrests')\n",
    "plt.show()\n",
    "\n"
   ]
  },
  {
   "cell_type": "markdown",
   "id": "efc44767",
   "metadata": {},
   "source": [
    "Observations\n",
    "- Most crimes happen on the streets\n",
    "- Theft is the leading crime followed by battery\n"
   ]
  },
  {
   "cell_type": "markdown",
   "id": "54a90c2e",
   "metadata": {},
   "source": [
    "Given the difficulties encountered in using Primary Type directly for our models, we have decided to perform Hand Engineering of a new attribute that would be more balanced and more representative of crimes.\n",
    "\n",
    "After some research, notably in the [*Criminal Code*](https://www.ilga.gov/legislation/ilcs/ilcs3.asp?ChapterID=53&ActID=1876) of the Illinois Compiled Statutes (ILCS), we found that we could put these types of crimes into 3 major categories:\n",
    "\n",
    "- Offenses directed against the person (ODATP)\n",
    "- Offenses directed against property (ODAP)\n",
    "- Offenses affecting public health, safety and decency/affecting governmental functions (OAPHSD)\n",
    "\n",
    "We have placed these types of crimes in each of the categories as follows:\n",
    "\n",
    "**Offenses directed against the person**: Battery, Assault, Offense involving children, Sex Offense, Crim Sexual Assault, Homicide, Prostitution, Stalking, Kidnapping, Intimidation, Human Trafficking.\n",
    "\n",
    "**Offenses directed against property:** Theft, Deceptive Practice, Burglary, Motor Vehicle theft, Robbery, Arson.\n",
    "\n",
    "**Offenses affecting public health, safety and decency/Gov func:** Narcotics, Weapons Violation, Public Peace Violation, Interference with Public Officer, Liquor Law Violation, Concealed Carry License Violation, Gambling, Obscenity, Public Indecency, Other Narcotic Violation.\n",
    "\n",
    "**Crimes of the type:** Other Offense, Criminal Damage and Criminal Trespass are deleted as they represent a mix of categories.\n",
    "\n",
    "**Lines with the type:** Non-Criminal, Non-Criminal (Subject Specified) and Non - Criminal are not taken into account.\n",
    "\n",
    "Finally, the only line with the crime type Ritualism will also be deleted due to the lack of examples.\n",
    "\n",
    "All of this is done in the next cells:\n",
    "\n",
    "Additional Notes:"
   ]
  },
  {
   "cell_type": "code",
   "execution_count": 104,
   "id": "42e76410",
   "metadata": {},
   "outputs": [],
   "source": [
    "cleaned_data = cleaned_data[~cleaned_data['Primary Type'].isin([\"OTHER OFFENSE\", \"CRIMINAL DAMAGE\", \"CRIMINAL TRESPASS\", \"NON-CRIMINAL\",\n",
    "                                 \"NON-CRIMINAL (SUBJECT SPECIFIED)\", \"NON - CRIMINAL\", \"RITUALISM\"])]"
   ]
  },
  {
   "cell_type": "code",
   "execution_count": 105,
   "id": "d632458e",
   "metadata": {},
   "outputs": [
    {
     "name": "stdout",
     "output_type": "stream",
     "text": [
      "Number of crimes in the category 'Offenses directed against the person' : 29296\n",
      "Number of crimes in the category 'Offenses directed against property' : 42834\n",
      "Number of crimes in the category 'Offenses affecting public health, safety and decency/affecting governmental functions' : 6373\n"
     ]
    }
   ],
   "source": [
    "print(\"Number of crimes in the category 'Offenses directed against the person' :\",\n",
    "      len(cleaned_data[cleaned_data['Primary Type'].isin([\"BATTERY\", \"ASSAULT\", \"OFFENSE INVOLVING CHILDREN\", \"SEX OFFENSE\", \"HOMICIDE\",\n",
    "                                      \"CRIM SEXUAL ASSAULT\", \"PROSTITUTION\", \"STALKING\", \"KIDNAPPING\",\n",
    "                                      \"INTIMIDATION\", \"HUMAN TRAFFICKING\"])]))\n",
    "print(\"Number of crimes in the category 'Offenses directed against property' :\",\n",
    "      len(cleaned_data[cleaned_data['Primary Type'].isin([\"THEFT\", \"DECEPTIVE PRACTICE\", \"BURGLARY\", \"MOTOR VEHICLE THEFT\", \"ROBBERY\",\n",
    "                                      \"ARSON\"])]))\n",
    "print(\"Number of crimes in the category 'Offenses affecting public health, safety and decency/affecting governmental functions' :\",\n",
    "      len(cleaned_data[cleaned_data['Primary Type'].isin([\"NARCOTICS\", \"WEAPONS VIOLATION\", \"PUBLIC PEACE VIOLATION\", \"LIQUOR LAW VIOLATION\",\n",
    "                                      \"CONCEALED CARRY LICENSE VIOLATION\", \"INTERFERENCE WITH PUBLIC OFFICER\",\n",
    "                                      \"GAMBLING\", \"OBSCENITY\", \"PUBLIC INDECENCY\", \"OTHER NARCOTIC VIOLATION\"])]))"
   ]
  },
  {
   "cell_type": "markdown",
   "id": "f28c8b69",
   "metadata": {},
   "source": [
    "We are creating a new column called Category that our models will try to predict."
   ]
  },
  {
   "cell_type": "code",
   "execution_count": 106,
   "id": "0b03d6da",
   "metadata": {},
   "outputs": [],
   "source": [
    "cleaned_data.insert(1, \"Category\", -1)"
   ]
  },
  {
   "cell_type": "markdown",
   "id": "9e418261",
   "metadata": {},
   "source": [
    "We associate 0, 1, or 2 to the ODATP, ODAP, or OAPHSD categories, respectively."
   ]
  },
  {
   "cell_type": "code",
   "execution_count": 107,
   "id": "75a76390",
   "metadata": {},
   "outputs": [
    {
     "data": {
      "text/html": [
       "<div>\n",
       "<style scoped>\n",
       "    .dataframe tbody tr th:only-of-type {\n",
       "        vertical-align: middle;\n",
       "    }\n",
       "\n",
       "    .dataframe tbody tr th {\n",
       "        vertical-align: top;\n",
       "    }\n",
       "\n",
       "    .dataframe thead th {\n",
       "        text-align: right;\n",
       "    }\n",
       "</style>\n",
       "<table border=\"1\" class=\"dataframe\">\n",
       "  <thead>\n",
       "    <tr style=\"text-align: right;\">\n",
       "      <th></th>\n",
       "      <th>Date</th>\n",
       "      <th>Category</th>\n",
       "      <th>Primary Type</th>\n",
       "      <th>Location Description</th>\n",
       "      <th>Arrest</th>\n",
       "      <th>Domestic</th>\n",
       "      <th>Beat</th>\n",
       "      <th>District</th>\n",
       "      <th>Ward</th>\n",
       "      <th>Community Area</th>\n",
       "      <th>Latitude</th>\n",
       "      <th>Longitude</th>\n",
       "    </tr>\n",
       "  </thead>\n",
       "  <tbody>\n",
       "    <tr>\n",
       "      <th>0</th>\n",
       "      <td>05/29/2024 12:00:00 AM</td>\n",
       "      <td>1</td>\n",
       "      <td>THEFT</td>\n",
       "      <td>DEPARTMENT STORE</td>\n",
       "      <td>False</td>\n",
       "      <td>False</td>\n",
       "      <td>1412</td>\n",
       "      <td>14</td>\n",
       "      <td>35</td>\n",
       "      <td>22</td>\n",
       "      <td>41.931963</td>\n",
       "      <td>-87.712876</td>\n",
       "    </tr>\n",
       "    <tr>\n",
       "      <th>1</th>\n",
       "      <td>05/29/2024 12:00:00 AM</td>\n",
       "      <td>1</td>\n",
       "      <td>THEFT</td>\n",
       "      <td>APARTMENT</td>\n",
       "      <td>False</td>\n",
       "      <td>True</td>\n",
       "      <td>1135</td>\n",
       "      <td>11</td>\n",
       "      <td>28</td>\n",
       "      <td>29</td>\n",
       "      <td>41.867803</td>\n",
       "      <td>-87.695937</td>\n",
       "    </tr>\n",
       "    <tr>\n",
       "      <th>5</th>\n",
       "      <td>05/29/2024 12:00:00 AM</td>\n",
       "      <td>0</td>\n",
       "      <td>ASSAULT</td>\n",
       "      <td>STREET</td>\n",
       "      <td>False</td>\n",
       "      <td>False</td>\n",
       "      <td>1614</td>\n",
       "      <td>16</td>\n",
       "      <td>41</td>\n",
       "      <td>76</td>\n",
       "      <td>41.976763</td>\n",
       "      <td>-87.836614</td>\n",
       "    </tr>\n",
       "    <tr>\n",
       "      <th>6</th>\n",
       "      <td>05/29/2024 12:00:00 AM</td>\n",
       "      <td>0</td>\n",
       "      <td>BATTERY</td>\n",
       "      <td>RESIDENCE</td>\n",
       "      <td>False</td>\n",
       "      <td>True</td>\n",
       "      <td>2222</td>\n",
       "      <td>22</td>\n",
       "      <td>21</td>\n",
       "      <td>71</td>\n",
       "      <td>41.733387</td>\n",
       "      <td>-87.656915</td>\n",
       "    </tr>\n",
       "    <tr>\n",
       "      <th>7</th>\n",
       "      <td>05/29/2024 12:00:00 AM</td>\n",
       "      <td>1</td>\n",
       "      <td>THEFT</td>\n",
       "      <td>STREET</td>\n",
       "      <td>False</td>\n",
       "      <td>False</td>\n",
       "      <td>1925</td>\n",
       "      <td>19</td>\n",
       "      <td>46</td>\n",
       "      <td>6</td>\n",
       "      <td>41.946459</td>\n",
       "      <td>-87.644655</td>\n",
       "    </tr>\n",
       "    <tr>\n",
       "      <th>...</th>\n",
       "      <td>...</td>\n",
       "      <td>...</td>\n",
       "      <td>...</td>\n",
       "      <td>...</td>\n",
       "      <td>...</td>\n",
       "      <td>...</td>\n",
       "      <td>...</td>\n",
       "      <td>...</td>\n",
       "      <td>...</td>\n",
       "      <td>...</td>\n",
       "      <td>...</td>\n",
       "      <td>...</td>\n",
       "    </tr>\n",
       "    <tr>\n",
       "      <th>99527</th>\n",
       "      <td>01/01/2024 12:00:00 AM</td>\n",
       "      <td>1</td>\n",
       "      <td>DECEPTIVE PRACTICE</td>\n",
       "      <td>RESIDENCE</td>\n",
       "      <td>False</td>\n",
       "      <td>False</td>\n",
       "      <td>1621</td>\n",
       "      <td>16</td>\n",
       "      <td>45</td>\n",
       "      <td>12</td>\n",
       "      <td>42.010135</td>\n",
       "      <td>-87.782294</td>\n",
       "    </tr>\n",
       "    <tr>\n",
       "      <th>99529</th>\n",
       "      <td>01/01/2024 12:00:00 AM</td>\n",
       "      <td>1</td>\n",
       "      <td>DECEPTIVE PRACTICE</td>\n",
       "      <td>APARTMENT</td>\n",
       "      <td>False</td>\n",
       "      <td>False</td>\n",
       "      <td>1224</td>\n",
       "      <td>12</td>\n",
       "      <td>27</td>\n",
       "      <td>28</td>\n",
       "      <td>41.882917</td>\n",
       "      <td>-87.661073</td>\n",
       "    </tr>\n",
       "    <tr>\n",
       "      <th>99530</th>\n",
       "      <td>01/01/2024 12:00:00 AM</td>\n",
       "      <td>0</td>\n",
       "      <td>OFFENSE INVOLVING CHILDREN</td>\n",
       "      <td>RESIDENCE</td>\n",
       "      <td>False</td>\n",
       "      <td>True</td>\n",
       "      <td>834</td>\n",
       "      <td>8</td>\n",
       "      <td>18</td>\n",
       "      <td>70</td>\n",
       "      <td>41.736702</td>\n",
       "      <td>-87.720475</td>\n",
       "    </tr>\n",
       "    <tr>\n",
       "      <th>99531</th>\n",
       "      <td>01/01/2024 12:00:00 AM</td>\n",
       "      <td>1</td>\n",
       "      <td>THEFT</td>\n",
       "      <td>RESIDENCE</td>\n",
       "      <td>False</td>\n",
       "      <td>False</td>\n",
       "      <td>2234</td>\n",
       "      <td>22</td>\n",
       "      <td>21</td>\n",
       "      <td>75</td>\n",
       "      <td>41.687340</td>\n",
       "      <td>-87.649519</td>\n",
       "    </tr>\n",
       "    <tr>\n",
       "      <th>99533</th>\n",
       "      <td>01/01/2024 12:00:00 AM</td>\n",
       "      <td>0</td>\n",
       "      <td>OFFENSE INVOLVING CHILDREN</td>\n",
       "      <td>RESIDENCE</td>\n",
       "      <td>False</td>\n",
       "      <td>True</td>\n",
       "      <td>423</td>\n",
       "      <td>4</td>\n",
       "      <td>7</td>\n",
       "      <td>46</td>\n",
       "      <td>41.741860</td>\n",
       "      <td>-87.557578</td>\n",
       "    </tr>\n",
       "  </tbody>\n",
       "</table>\n",
       "<p>79057 rows × 12 columns</p>\n",
       "</div>"
      ],
      "text/plain": [
       "                         Date  Category                Primary Type  \\\n",
       "0      05/29/2024 12:00:00 AM         1                       THEFT   \n",
       "1      05/29/2024 12:00:00 AM         1                       THEFT   \n",
       "5      05/29/2024 12:00:00 AM         0                     ASSAULT   \n",
       "6      05/29/2024 12:00:00 AM         0                     BATTERY   \n",
       "7      05/29/2024 12:00:00 AM         1                       THEFT   \n",
       "...                       ...       ...                         ...   \n",
       "99527  01/01/2024 12:00:00 AM         1          DECEPTIVE PRACTICE   \n",
       "99529  01/01/2024 12:00:00 AM         1          DECEPTIVE PRACTICE   \n",
       "99530  01/01/2024 12:00:00 AM         0  OFFENSE INVOLVING CHILDREN   \n",
       "99531  01/01/2024 12:00:00 AM         1                       THEFT   \n",
       "99533  01/01/2024 12:00:00 AM         0  OFFENSE INVOLVING CHILDREN   \n",
       "\n",
       "      Location Description  Arrest  Domestic  Beat  District  Ward  \\\n",
       "0         DEPARTMENT STORE   False     False  1412        14    35   \n",
       "1                APARTMENT   False      True  1135        11    28   \n",
       "5                   STREET   False     False  1614        16    41   \n",
       "6                RESIDENCE   False      True  2222        22    21   \n",
       "7                   STREET   False     False  1925        19    46   \n",
       "...                    ...     ...       ...   ...       ...   ...   \n",
       "99527            RESIDENCE   False     False  1621        16    45   \n",
       "99529            APARTMENT   False     False  1224        12    27   \n",
       "99530            RESIDENCE   False      True   834         8    18   \n",
       "99531            RESIDENCE   False     False  2234        22    21   \n",
       "99533            RESIDENCE   False      True   423         4     7   \n",
       "\n",
       "       Community Area   Latitude  Longitude  \n",
       "0                  22  41.931963 -87.712876  \n",
       "1                  29  41.867803 -87.695937  \n",
       "5                  76  41.976763 -87.836614  \n",
       "6                  71  41.733387 -87.656915  \n",
       "7                   6  41.946459 -87.644655  \n",
       "...               ...        ...        ...  \n",
       "99527              12  42.010135 -87.782294  \n",
       "99529              28  41.882917 -87.661073  \n",
       "99530              70  41.736702 -87.720475  \n",
       "99531              75  41.687340 -87.649519  \n",
       "99533              46  41.741860 -87.557578  \n",
       "\n",
       "[79057 rows x 12 columns]"
      ]
     },
     "execution_count": 107,
     "metadata": {},
     "output_type": "execute_result"
    }
   ],
   "source": [
    "cleaned_data.loc[cleaned_data['Primary Type'].isin([\"BATTERY\", \"ASSAULT\", \"OFFENSE INVOLVING CHILDREN\", \"SEX OFFENSE\", \"HOMICIDE\",\n",
    "                \"CRIM SEXUAL ASSAULT\", \"CRIMINAL SEXUAL ASSAULT\", \"PROSTITUTION\", \"STALKING\", \"KIDNAPPING\",\n",
    "                \"INTIMIDATION\", \"HUMAN TRAFFICKING\"]), 'Category'] = 0\n",
    "cleaned_data.loc[cleaned_data['Primary Type'].isin([\"THEFT\", \"DECEPTIVE PRACTICE\", \"BURGLARY\", \"MOTOR VEHICLE THEFT\", \"ROBBERY\",\n",
    "                \"ARSON\"]), 'Category'] = 1\n",
    "cleaned_data.loc[cleaned_data['Primary Type'].isin([\"NARCOTICS\", \"WEAPONS VIOLATION\", \"PUBLIC PEACE VIOLATION\", \"LIQUOR LAW VIOLATION\",\n",
    "                \"CONCEALED CARRY LICENSE VIOLATION\", \"INTERFERENCE WITH PUBLIC OFFICER\", \"GAMBLING\", \"OBSCENITY\",\n",
    "                \"PUBLIC INDECENCY\", \"OTHER NARCOTIC VIOLATION\"]), 'Category'] = 2\n",
    "cleaned_data"
   ]
  },
  {
   "cell_type": "markdown",
   "id": "1a1f7fa5",
   "metadata": {},
   "source": [
    "We delete the Primary Type column and verify that we now have 3 crime categories.\n",
    "\n",
    "This statement indicates that the Primary Type column, which originally contained the detailed crime type descriptions, will be removed from the DataFrame. This is done after creating the Category column, which now represents the simplified crime categories.\n",
    "\n",
    "The purpose of removing the Primary Type column is to avoid redundancy and maintain a cleaner data structure. The Category column now serves as the primary representation of crime categories, and the models will be trained to predict these categories based on the other features in the DataFrame."
   ]
  },
  {
   "cell_type": "code",
   "execution_count": 108,
   "id": "c12fb8c9",
   "metadata": {},
   "outputs": [
    {
     "data": {
      "text/plain": [
       "Category\n",
       "1    42834\n",
       "0    29850\n",
       "2     6373\n",
       "Name: count, dtype: int64"
      ]
     },
     "execution_count": 108,
     "metadata": {},
     "output_type": "execute_result"
    }
   ],
   "source": [
    "cleaned_data = cleaned_data.drop('Primary Type', axis=1)\n",
    "cleaned_data['Category'].value_counts()"
   ]
  },
  {
   "cell_type": "code",
   "execution_count": 134,
   "id": "eb5227f6",
   "metadata": {},
   "outputs": [
    {
     "data": {
      "image/png": "[encoded data removed]",
      "text/plain": [
       "<Figure size 1500x500 with 1 Axes>"
      ]
     },
     "metadata": {},
     "output_type": "display_data"
    }
   ],
   "source": [
    "plt.figure(figsize=(15, 5))\n",
    "plt.bar(cleaned_data['Category'].value_counts().index.tolist(),cleaned_data['Category'].value_counts())\n",
    "plt.title('Distribution of Categories of crimes')\n",
    "plt.show()"
   ]
  },
  {
   "cell_type": "markdown",
   "id": "d54e7940",
   "metadata": {},
   "source": [
    "Although the examples for these categories are not very balanced (see barplot below), it is still rather acceptable and better than what we had before. In addition, it may be quite normal for our model to be biased towards the category of crimes that occur the most."
   ]
  },
  {
   "cell_type": "markdown",
   "id": "ad33d055",
   "metadata": {},
   "source": [
    "We discover the Location Description attribute in String format, which indicates where the crime took place.\n",
    "\n"
   ]
  },
  {
   "cell_type": "code",
   "execution_count": 110,
   "id": "e52e9153",
   "metadata": {},
   "outputs": [
    {
     "name": "stdout",
     "output_type": "stream",
     "text": [
      "Location Description\n",
      "STREET                                                   20727\n",
      "APARTMENT                                                14832\n",
      "RESIDENCE                                                 8386\n",
      "SIDEWALK                                                  4643\n",
      "SMALL RETAIL STORE                                        3424\n",
      "PARKING LOT / GARAGE (NON RESIDENTIAL)                    2536\n",
      "RESTAURANT                                                2089\n",
      "DEPARTMENT STORE                                          2055\n",
      "ALLEY                                                     1948\n",
      "OTHER (SPECIFY)                                           1237\n",
      "COMMERCIAL / BUSINESS OFFICE                              1148\n",
      "RESIDENCE - PORCH / HALLWAY                               1085\n",
      "VEHICLE NON-COMMERCIAL                                    1050\n",
      "GAS STATION                                                991\n",
      "GROCERY FOOD STORE                                         979\n",
      "SCHOOL - PUBLIC BUILDING                                   791\n",
      "SCHOOL - PUBLIC GROUNDS                                    750\n",
      "BAR OR TAVERN                                              739\n",
      "RESIDENCE - YARD (FRONT / BACK)                            681\n",
      "CONVENIENCE STORE                                          632\n",
      "RESIDENCE - GARAGE                                         604\n",
      "DRUG STORE                                                 597\n",
      "CTA TRAIN                                                  573\n",
      "HOSPITAL BUILDING / GROUNDS                                503\n",
      "PARK PROPERTY                                              456\n",
      "HOTEL / MOTEL                                              442\n",
      "CTA BUS                                                    319\n",
      "BANK                                                       306\n",
      "CTA PLATFORM                                               305\n",
      "NURSING / RETIREMENT HOME                                  266\n",
      "VACANT LOT / LAND                                          232\n",
      "CHA APARTMENT                                              222\n",
      "TAVERN / LIQUOR STORE                                      221\n",
      "CTA STATION                                                212\n",
      "DRIVEWAY - RESIDENTIAL                                     191\n",
      "ATHLETIC CLUB                                              159\n",
      "GOVERNMENT BUILDING / PROPERTY                             154\n",
      "POLICE FACILITY / VEHICLE PARKING LOT                      140\n",
      "SCHOOL - PRIVATE GROUNDS                                   125\n",
      "CHURCH / SYNAGOGUE / PLACE OF WORSHIP                      124\n",
      "CTA BUS STOP                                               123\n",
      "CHA PARKING LOT / GROUNDS                                  102\n",
      "VEHICLE - COMMERCIAL                                       101\n",
      "AIRPORT PARKING LOT                                         98\n",
      "AIRPORT TERMINAL UPPER LEVEL - SECURE AREA                  98\n",
      "MEDICAL / DENTAL OFFICE                                     92\n",
      "CURRENCY EXCHANGE                                           89\n",
      "LIBRARY                                                     87\n",
      "WAREHOUSE                                                   76\n",
      "SCHOOL - PRIVATE BUILDING                                   67\n",
      "CONSTRUCTION SITE                                           65\n",
      "CHA HALLWAY / STAIRWELL / ELEVATOR                          65\n",
      "APPLIANCE STORE                                             60\n",
      "AIRPORT TERMINAL LOWER LEVEL - NON-SECURE AREA              57\n",
      "AUTO / BOAT / RV DEALERSHIP                                 55\n",
      "DAY CARE CENTER                                             49\n",
      "ATM (AUTOMATIC TELLER MACHINE)                              49\n",
      "VEHICLE - OTHER RIDE SHARE SERVICE (LYFT, UBER, ETC.)       47\n",
      "SPORTS ARENA / STADIUM                                      47\n",
      "AIRPORT TERMINAL LOWER LEVEL - SECURE AREA                  35\n",
      "CTA PARKING LOT / GARAGE / OTHER PROPERTY                   34\n",
      "OTHER RAILROAD PROPERTY / TRAIN DEPOT                       34\n",
      "MOVIE HOUSE / THEATER                                       33\n",
      "CLEANING STORE                                              33\n",
      "FACTORY / MANUFACTURING BUILDING                            33\n",
      "AIRPORT TERMINAL UPPER LEVEL - NON-SECURE AREA              32\n",
      "BARBERSHOP                                                  30\n",
      "ABANDONED BUILDING                                          30\n",
      "AIRPORT BUILDING NON-TERMINAL - NON-SECURE AREA             29\n",
      "AIRPORT EXTERIOR - NON-SECURE AREA                          28\n",
      "AIRCRAFT                                                    28\n",
      "COLLEGE / UNIVERSITY - GROUNDS                              26\n",
      "LAKEFRONT / WATERFRONT / RIVERBANK                          24\n",
      "CAR WASH                                                    23\n",
      "AIRPORT BUILDING NON-TERMINAL - SECURE AREA                 23\n",
      "AIRPORT EXTERIOR - SECURE AREA                              21\n",
      "HIGHWAY / EXPRESSWAY                                        18\n",
      "TAXICAB                                                     17\n",
      "OTHER COMMERCIAL TRANSPORTATION                             17\n",
      "FEDERAL BUILDING                                            17\n",
      "JAIL / LOCK-UP FACILITY                                     16\n",
      "BOWLING ALLEY                                               16\n",
      "VEHICLE - DELIVERY TRUCK                                    15\n",
      "HOUSE                                                       13\n",
      "PARKING LOT                                                 11\n",
      "COLLEGE / UNIVERSITY - RESIDENCE HALL                       10\n",
      "FIRE STATION                                                10\n",
      "CEMETARY                                                    10\n",
      "COIN OPERATED MACHINE                                        8\n",
      "AIRPORT VENDING ESTABLISHMENT                                8\n",
      "PAWN SHOP                                                    7\n",
      "CREDIT UNION                                                 7\n",
      "PORCH                                                        6\n",
      "BRIDGE                                                       6\n",
      "AUTO                                                         5\n",
      "ANIMAL HOSPITAL                                              5\n",
      "FOREST PRESERVE                                              4\n",
      "AIRPORT TERMINAL MEZZANINE - NON-SECURE AREA                 3\n",
      "DRIVEWAY                                                     3\n",
      "VACANT LOT                                                   3\n",
      "YARD                                                         3\n",
      "AIRPORT TRANSPORTATION SYSTEM (ATS)                          3\n",
      "RETAIL STORE                                                 3\n",
      "POOL ROOM                                                    2\n",
      "BOAT / WATERCRAFT                                            2\n",
      "VEHICLE - COMMERCIAL: TROLLEY BUS                            2\n",
      "HALLWAY                                                      1\n",
      "GARAGE                                                       1\n",
      "CHA GROUNDS                                                  1\n",
      "OFFICE                                                       1\n",
      "HOSPITAL                                                     1\n",
      "LIQUOR STORE                                                 1\n",
      "CHA HALLWAY                                                  1\n",
      "CTA \"L\" TRAIN                                                1\n",
      "CTA TRACKS - RIGHT OF WAY                                    1\n",
      "KENNEL                                                       1\n"
     ]
    }
   ],
   "source": [
    "print(cleaned_data['Location Description'].value_counts().to_string())"
   ]
  },
  {
   "cell_type": "markdown",
   "id": "f5d7eefa",
   "metadata": {},
   "source": [
    "We are trying to see the number of arrests made by category:\n",
    "\n",
    "This statement indicates that the goal is to analyze the number of arrests made for each of the three crime categories (ODATP, ODAP, and OAPHSD). This analysis can provide insights into the distribution of arrests across different types of crimes and help identify any potential patterns or biases in law enforcement practices."
   ]
  },
  {
   "cell_type": "code",
   "execution_count": 111,
   "id": "4b120128",
   "metadata": {},
   "outputs": [
    {
     "data": {
      "text/html": [
       "<div>\n",
       "<style scoped>\n",
       "    .dataframe tbody tr th:only-of-type {\n",
       "        vertical-align: middle;\n",
       "    }\n",
       "\n",
       "    .dataframe tbody tr th {\n",
       "        vertical-align: top;\n",
       "    }\n",
       "\n",
       "    .dataframe thead th {\n",
       "        text-align: right;\n",
       "    }\n",
       "</style>\n",
       "<table border=\"1\" class=\"dataframe\">\n",
       "  <thead>\n",
       "    <tr style=\"text-align: right;\">\n",
       "      <th></th>\n",
       "      <th>Arrest</th>\n",
       "    </tr>\n",
       "    <tr>\n",
       "      <th>Category</th>\n",
       "      <th></th>\n",
       "    </tr>\n",
       "  </thead>\n",
       "  <tbody>\n",
       "    <tr>\n",
       "      <th>0</th>\n",
       "      <td>4099</td>\n",
       "    </tr>\n",
       "    <tr>\n",
       "      <th>1</th>\n",
       "      <td>2158</td>\n",
       "    </tr>\n",
       "    <tr>\n",
       "      <th>2</th>\n",
       "      <td>4653</td>\n",
       "    </tr>\n",
       "  </tbody>\n",
       "</table>\n",
       "</div>"
      ],
      "text/plain": [
       "          Arrest\n",
       "Category        \n",
       "0           4099\n",
       "1           2158\n",
       "2           4653"
      ]
     },
     "execution_count": 111,
     "metadata": {},
     "output_type": "execute_result"
    }
   ],
   "source": [
    "cleaned_data[['Arrest', 'Category']].groupby('Category').sum()"
   ]
  },
  {
   "cell_type": "markdown",
   "id": "a3fd8eb5",
   "metadata": {},
   "source": [
    "The different combinations for Beat, District, Ward, and Community Area:"
   ]
  },
  {
   "cell_type": "code",
   "execution_count": 112,
   "id": "224630bf",
   "metadata": {},
   "outputs": [
    {
     "data": {
      "text/plain": [
       "Beat  District  Ward  Community Area\n",
       "1831  18        42    8                 641\n",
       "1834  18        42    8                 619\n",
       "112   1         34    32                608\n",
       "421   4         7     43                550\n",
       "1121  11        27    23                475\n",
       "                                       ... \n",
       "222   2         4     36                  1\n",
       "532   5         10    51                  1\n",
       "821   8         22    30                  1\n",
       "921   9         12    61                  1\n",
       "1023  10        28    30                  1\n",
       "Name: count, Length: 793, dtype: int64"
      ]
     },
     "execution_count": 112,
     "metadata": {},
     "output_type": "execute_result"
    }
   ],
   "source": [
    "cleaned_data[['Beat', 'District', 'Ward', 'Community Area']].value_counts()"
   ]
  },
  {
   "cell_type": "code",
   "execution_count": 113,
   "id": "18f7c68e",
   "metadata": {},
   "outputs": [
    {
     "data": {
      "text/html": [
       "<div>\n",
       "<style scoped>\n",
       "    .dataframe tbody tr th:only-of-type {\n",
       "        vertical-align: middle;\n",
       "    }\n",
       "\n",
       "    .dataframe tbody tr th {\n",
       "        vertical-align: top;\n",
       "    }\n",
       "\n",
       "    .dataframe thead th {\n",
       "        text-align: right;\n",
       "    }\n",
       "</style>\n",
       "<table border=\"1\" class=\"dataframe\">\n",
       "  <thead>\n",
       "    <tr style=\"text-align: right;\">\n",
       "      <th></th>\n",
       "      <th>Date</th>\n",
       "      <th>Category</th>\n",
       "      <th>Location Description</th>\n",
       "      <th>Arrest</th>\n",
       "      <th>Domestic</th>\n",
       "      <th>Beat</th>\n",
       "      <th>District</th>\n",
       "      <th>Ward</th>\n",
       "      <th>Community Area</th>\n",
       "      <th>Latitude</th>\n",
       "      <th>Longitude</th>\n",
       "    </tr>\n",
       "  </thead>\n",
       "  <tbody>\n",
       "    <tr>\n",
       "      <th>0</th>\n",
       "      <td>05/29/2024 12:00:00 AM</td>\n",
       "      <td>1</td>\n",
       "      <td>DEPARTMENT STORE</td>\n",
       "      <td>False</td>\n",
       "      <td>False</td>\n",
       "      <td>1412</td>\n",
       "      <td>14</td>\n",
       "      <td>35</td>\n",
       "      <td>22</td>\n",
       "      <td>41.931963</td>\n",
       "      <td>-87.712876</td>\n",
       "    </tr>\n",
       "    <tr>\n",
       "      <th>1</th>\n",
       "      <td>05/29/2024 12:00:00 AM</td>\n",
       "      <td>1</td>\n",
       "      <td>APARTMENT</td>\n",
       "      <td>False</td>\n",
       "      <td>True</td>\n",
       "      <td>1135</td>\n",
       "      <td>11</td>\n",
       "      <td>28</td>\n",
       "      <td>29</td>\n",
       "      <td>41.867803</td>\n",
       "      <td>-87.695937</td>\n",
       "    </tr>\n",
       "    <tr>\n",
       "      <th>5</th>\n",
       "      <td>05/29/2024 12:00:00 AM</td>\n",
       "      <td>0</td>\n",
       "      <td>STREET</td>\n",
       "      <td>False</td>\n",
       "      <td>False</td>\n",
       "      <td>1614</td>\n",
       "      <td>16</td>\n",
       "      <td>41</td>\n",
       "      <td>76</td>\n",
       "      <td>41.976763</td>\n",
       "      <td>-87.836614</td>\n",
       "    </tr>\n",
       "    <tr>\n",
       "      <th>6</th>\n",
       "      <td>05/29/2024 12:00:00 AM</td>\n",
       "      <td>0</td>\n",
       "      <td>RESIDENCE</td>\n",
       "      <td>False</td>\n",
       "      <td>True</td>\n",
       "      <td>2222</td>\n",
       "      <td>22</td>\n",
       "      <td>21</td>\n",
       "      <td>71</td>\n",
       "      <td>41.733387</td>\n",
       "      <td>-87.656915</td>\n",
       "    </tr>\n",
       "    <tr>\n",
       "      <th>7</th>\n",
       "      <td>05/29/2024 12:00:00 AM</td>\n",
       "      <td>1</td>\n",
       "      <td>STREET</td>\n",
       "      <td>False</td>\n",
       "      <td>False</td>\n",
       "      <td>1925</td>\n",
       "      <td>19</td>\n",
       "      <td>46</td>\n",
       "      <td>6</td>\n",
       "      <td>41.946459</td>\n",
       "      <td>-87.644655</td>\n",
       "    </tr>\n",
       "  </tbody>\n",
       "</table>\n",
       "</div>"
      ],
      "text/plain": [
       "                     Date  Category Location Description  Arrest  Domestic  \\\n",
       "0  05/29/2024 12:00:00 AM         1     DEPARTMENT STORE   False     False   \n",
       "1  05/29/2024 12:00:00 AM         1            APARTMENT   False      True   \n",
       "5  05/29/2024 12:00:00 AM         0               STREET   False     False   \n",
       "6  05/29/2024 12:00:00 AM         0            RESIDENCE   False      True   \n",
       "7  05/29/2024 12:00:00 AM         1               STREET   False     False   \n",
       "\n",
       "   Beat  District  Ward  Community Area   Latitude  Longitude  \n",
       "0  1412        14    35              22  41.931963 -87.712876  \n",
       "1  1135        11    28              29  41.867803 -87.695937  \n",
       "5  1614        16    41              76  41.976763 -87.836614  \n",
       "6  2222        22    21              71  41.733387 -87.656915  \n",
       "7  1925        19    46               6  41.946459 -87.644655  "
      ]
     },
     "execution_count": 113,
     "metadata": {},
     "output_type": "execute_result"
    }
   ],
   "source": [
    "cleaned_data.head()"
   ]
  },
  {
   "cell_type": "markdown",
   "id": "bf5ff7cb",
   "metadata": {},
   "source": [
    "Next, we would like to focus on the Date attribute and make it more usable.\n",
    "\n",
    "We extract from it the attributes Day, Month, and Hour, which can play an important role in predicting the category of crime that will occur based on time."
   ]
  },
  {
   "cell_type": "code",
   "execution_count": 114,
   "id": "d21f3f14",
   "metadata": {},
   "outputs": [
    {
     "data": {
      "text/plain": [
       "0        05/29/2024 12:00:00 AM\n",
       "1        05/29/2024 12:00:00 AM\n",
       "5        05/29/2024 12:00:00 AM\n",
       "6        05/29/2024 12:00:00 AM\n",
       "7        05/29/2024 12:00:00 AM\n",
       "                  ...          \n",
       "99527    01/01/2024 12:00:00 AM\n",
       "99529    01/01/2024 12:00:00 AM\n",
       "99530    01/01/2024 12:00:00 AM\n",
       "99531    01/01/2024 12:00:00 AM\n",
       "99533    01/01/2024 12:00:00 AM\n",
       "Name: Date, Length: 79057, dtype: object"
      ]
     },
     "execution_count": 114,
     "metadata": {},
     "output_type": "execute_result"
    }
   ],
   "source": [
    "cleaned_data['Date']"
   ]
  },
  {
   "cell_type": "code",
   "execution_count": 115,
   "id": "c8deafd5",
   "metadata": {},
   "outputs": [
    {
     "name": "stderr",
     "output_type": "stream",
     "text": [
      "C:\\Users\\user\\AppData\\Local\\Temp\\ipykernel_15888\\2039728213.py:2: UserWarning: Could not infer format, so each element will be parsed individually, falling back to `dateutil`. To ensure parsing is consistent and as-expected, please specify a format.\n",
      "  cleaned_data['Date'] = pd.to_datetime(cleaned_data['Date'])\n"
     ]
    },
    {
     "data": {
      "text/html": [
       "<div>\n",
       "<style scoped>\n",
       "    .dataframe tbody tr th:only-of-type {\n",
       "        vertical-align: middle;\n",
       "    }\n",
       "\n",
       "    .dataframe tbody tr th {\n",
       "        vertical-align: top;\n",
       "    }\n",
       "\n",
       "    .dataframe thead th {\n",
       "        text-align: right;\n",
       "    }\n",
       "</style>\n",
       "<table border=\"1\" class=\"dataframe\">\n",
       "  <thead>\n",
       "    <tr style=\"text-align: right;\">\n",
       "      <th></th>\n",
       "      <th>Date</th>\n",
       "      <th>Category</th>\n",
       "      <th>Location Description</th>\n",
       "      <th>Arrest</th>\n",
       "      <th>Domestic</th>\n",
       "      <th>Beat</th>\n",
       "      <th>District</th>\n",
       "      <th>Ward</th>\n",
       "      <th>Community Area</th>\n",
       "      <th>Latitude</th>\n",
       "      <th>Longitude</th>\n",
       "      <th>Month</th>\n",
       "      <th>Day</th>\n",
       "      <th>Hour</th>\n",
       "    </tr>\n",
       "  </thead>\n",
       "  <tbody>\n",
       "    <tr>\n",
       "      <th>0</th>\n",
       "      <td>2024-05-29</td>\n",
       "      <td>1</td>\n",
       "      <td>DEPARTMENT STORE</td>\n",
       "      <td>False</td>\n",
       "      <td>False</td>\n",
       "      <td>1412</td>\n",
       "      <td>14</td>\n",
       "      <td>35</td>\n",
       "      <td>22</td>\n",
       "      <td>41.931963</td>\n",
       "      <td>-87.712876</td>\n",
       "      <td>5</td>\n",
       "      <td>29</td>\n",
       "      <td>0</td>\n",
       "    </tr>\n",
       "    <tr>\n",
       "      <th>1</th>\n",
       "      <td>2024-05-29</td>\n",
       "      <td>1</td>\n",
       "      <td>APARTMENT</td>\n",
       "      <td>False</td>\n",
       "      <td>True</td>\n",
       "      <td>1135</td>\n",
       "      <td>11</td>\n",
       "      <td>28</td>\n",
       "      <td>29</td>\n",
       "      <td>41.867803</td>\n",
       "      <td>-87.695937</td>\n",
       "      <td>5</td>\n",
       "      <td>29</td>\n",
       "      <td>0</td>\n",
       "    </tr>\n",
       "    <tr>\n",
       "      <th>5</th>\n",
       "      <td>2024-05-29</td>\n",
       "      <td>0</td>\n",
       "      <td>STREET</td>\n",
       "      <td>False</td>\n",
       "      <td>False</td>\n",
       "      <td>1614</td>\n",
       "      <td>16</td>\n",
       "      <td>41</td>\n",
       "      <td>76</td>\n",
       "      <td>41.976763</td>\n",
       "      <td>-87.836614</td>\n",
       "      <td>5</td>\n",
       "      <td>29</td>\n",
       "      <td>0</td>\n",
       "    </tr>\n",
       "    <tr>\n",
       "      <th>6</th>\n",
       "      <td>2024-05-29</td>\n",
       "      <td>0</td>\n",
       "      <td>RESIDENCE</td>\n",
       "      <td>False</td>\n",
       "      <td>True</td>\n",
       "      <td>2222</td>\n",
       "      <td>22</td>\n",
       "      <td>21</td>\n",
       "      <td>71</td>\n",
       "      <td>41.733387</td>\n",
       "      <td>-87.656915</td>\n",
       "      <td>5</td>\n",
       "      <td>29</td>\n",
       "      <td>0</td>\n",
       "    </tr>\n",
       "    <tr>\n",
       "      <th>7</th>\n",
       "      <td>2024-05-29</td>\n",
       "      <td>1</td>\n",
       "      <td>STREET</td>\n",
       "      <td>False</td>\n",
       "      <td>False</td>\n",
       "      <td>1925</td>\n",
       "      <td>19</td>\n",
       "      <td>46</td>\n",
       "      <td>6</td>\n",
       "      <td>41.946459</td>\n",
       "      <td>-87.644655</td>\n",
       "      <td>5</td>\n",
       "      <td>29</td>\n",
       "      <td>0</td>\n",
       "    </tr>\n",
       "  </tbody>\n",
       "</table>\n",
       "</div>"
      ],
      "text/plain": [
       "        Date  Category Location Description  Arrest  Domestic  Beat  District  \\\n",
       "0 2024-05-29         1     DEPARTMENT STORE   False     False  1412        14   \n",
       "1 2024-05-29         1            APARTMENT   False      True  1135        11   \n",
       "5 2024-05-29         0               STREET   False     False  1614        16   \n",
       "6 2024-05-29         0            RESIDENCE   False      True  2222        22   \n",
       "7 2024-05-29         1               STREET   False     False  1925        19   \n",
       "\n",
       "   Ward  Community Area   Latitude  Longitude  Month  Day  Hour  \n",
       "0    35              22  41.931963 -87.712876      5   29     0  \n",
       "1    28              29  41.867803 -87.695937      5   29     0  \n",
       "5    41              76  41.976763 -87.836614      5   29     0  \n",
       "6    21              71  41.733387 -87.656915      5   29     0  \n",
       "7    46               6  41.946459 -87.644655      5   29     0  "
      ]
     },
     "execution_count": 115,
     "metadata": {},
     "output_type": "execute_result"
    }
   ],
   "source": [
    "# Convert the 'Date' column to datetime format\n",
    "cleaned_data['Date'] = pd.to_datetime(cleaned_data['Date'])\n",
    "\n",
    "# Extract Month, Day, and Hour into new columns\n",
    "cleaned_data['Month'] = cleaned_data['Date'].dt.month\n",
    "cleaned_data['Day'] = cleaned_data['Date'].dt.day\n",
    "cleaned_data['Hour'] = cleaned_data['Date'].dt.hour\n",
    "\n",
    "# Display the dataframe with the new columns\n",
    "cleaned_data.head()"
   ]
  },
  {
   "cell_type": "markdown",
   "id": "bc37fdf2",
   "metadata": {},
   "source": [
    "Drop date column"
   ]
  },
  {
   "cell_type": "code",
   "execution_count": 116,
   "id": "7ce53955",
   "metadata": {},
   "outputs": [],
   "source": [
    "cleaned_data = cleaned_data.drop('Date', axis=1)"
   ]
  },
  {
   "cell_type": "markdown",
   "id": "a405fc6a",
   "metadata": {},
   "source": [
    "We transform the boolean columns Arrest and Domestic into integers (0 for False and 1 for True)."
   ]
  },
  {
   "cell_type": "code",
   "execution_count": 117,
   "id": "6261210b",
   "metadata": {},
   "outputs": [],
   "source": [
    "cleaned_data['Arrest'] = cleaned_data['Arrest'].astype(int)\n",
    "cleaned_data['Domestic'] = cleaned_data['Domestic'].astype(int)"
   ]
  },
  {
   "cell_type": "markdown",
   "id": "5ff5ab85",
   "metadata": {},
   "source": [
    "Not having found a better way to exploit the Location Description attribute, I decided to simply encode it with an OrdinalEncoder() to transform the categorical values in this attribute into numerical representations."
   ]
  },
  {
   "cell_type": "code",
   "execution_count": 118,
   "id": "cbeea994",
   "metadata": {},
   "outputs": [],
   "source": [
    "from sklearn.preprocessing import OrdinalEncoder\n",
    "enc = OrdinalEncoder()\n",
    "cleaned_data['Location Description'] = enc.fit_transform(cleaned_data[['Location Description']])"
   ]
  },
  {
   "cell_type": "markdown",
   "id": "8c59c250",
   "metadata": {},
   "source": [
    "We shuffle our dataset randomly"
   ]
  },
  {
   "cell_type": "code",
   "execution_count": 119,
   "id": "956cff13",
   "metadata": {},
   "outputs": [
    {
     "data": {
      "text/html": [
       "<div>\n",
       "<style scoped>\n",
       "    .dataframe tbody tr th:only-of-type {\n",
       "        vertical-align: middle;\n",
       "    }\n",
       "\n",
       "    .dataframe tbody tr th {\n",
       "        vertical-align: top;\n",
       "    }\n",
       "\n",
       "    .dataframe thead th {\n",
       "        text-align: right;\n",
       "    }\n",
       "</style>\n",
       "<table border=\"1\" class=\"dataframe\">\n",
       "  <thead>\n",
       "    <tr style=\"text-align: right;\">\n",
       "      <th></th>\n",
       "      <th>Category</th>\n",
       "      <th>Location Description</th>\n",
       "      <th>Arrest</th>\n",
       "      <th>Domestic</th>\n",
       "      <th>Beat</th>\n",
       "      <th>District</th>\n",
       "      <th>Ward</th>\n",
       "      <th>Community Area</th>\n",
       "      <th>Latitude</th>\n",
       "      <th>Longitude</th>\n",
       "      <th>Month</th>\n",
       "      <th>Day</th>\n",
       "      <th>Hour</th>\n",
       "    </tr>\n",
       "  </thead>\n",
       "  <tbody>\n",
       "    <tr>\n",
       "      <th>40173</th>\n",
       "      <td>2</td>\n",
       "      <td>104.0</td>\n",
       "      <td>1</td>\n",
       "      <td>0</td>\n",
       "      <td>2012</td>\n",
       "      <td>20</td>\n",
       "      <td>40</td>\n",
       "      <td>77</td>\n",
       "      <td>41.978227</td>\n",
       "      <td>-87.669670</td>\n",
       "      <td>3</td>\n",
       "      <td>31</td>\n",
       "      <td>12</td>\n",
       "    </tr>\n",
       "    <tr>\n",
       "      <th>22340</th>\n",
       "      <td>0</td>\n",
       "      <td>16.0</td>\n",
       "      <td>0</td>\n",
       "      <td>1</td>\n",
       "      <td>2413</td>\n",
       "      <td>24</td>\n",
       "      <td>50</td>\n",
       "      <td>2</td>\n",
       "      <td>41.994812</td>\n",
       "      <td>-87.682417</td>\n",
       "      <td>4</td>\n",
       "      <td>27</td>\n",
       "      <td>12</td>\n",
       "    </tr>\n",
       "    <tr>\n",
       "      <th>36871</th>\n",
       "      <td>0</td>\n",
       "      <td>23.0</td>\n",
       "      <td>0</td>\n",
       "      <td>0</td>\n",
       "      <td>231</td>\n",
       "      <td>2</td>\n",
       "      <td>3</td>\n",
       "      <td>40</td>\n",
       "      <td>41.794402</td>\n",
       "      <td>-87.620350</td>\n",
       "      <td>4</td>\n",
       "      <td>5</td>\n",
       "      <td>23</td>\n",
       "    </tr>\n",
       "    <tr>\n",
       "      <th>7062</th>\n",
       "      <td>0</td>\n",
       "      <td>16.0</td>\n",
       "      <td>0</td>\n",
       "      <td>1</td>\n",
       "      <td>114</td>\n",
       "      <td>1</td>\n",
       "      <td>42</td>\n",
       "      <td>32</td>\n",
       "      <td>41.886238</td>\n",
       "      <td>-87.615746</td>\n",
       "      <td>5</td>\n",
       "      <td>19</td>\n",
       "      <td>9</td>\n",
       "    </tr>\n",
       "    <tr>\n",
       "      <th>84631</th>\n",
       "      <td>1</td>\n",
       "      <td>54.0</td>\n",
       "      <td>0</td>\n",
       "      <td>0</td>\n",
       "      <td>124</td>\n",
       "      <td>1</td>\n",
       "      <td>28</td>\n",
       "      <td>28</td>\n",
       "      <td>41.868542</td>\n",
       "      <td>-87.639235</td>\n",
       "      <td>1</td>\n",
       "      <td>25</td>\n",
       "      <td>16</td>\n",
       "    </tr>\n",
       "    <tr>\n",
       "      <th>...</th>\n",
       "      <td>...</td>\n",
       "      <td>...</td>\n",
       "      <td>...</td>\n",
       "      <td>...</td>\n",
       "      <td>...</td>\n",
       "      <td>...</td>\n",
       "      <td>...</td>\n",
       "      <td>...</td>\n",
       "      <td>...</td>\n",
       "      <td>...</td>\n",
       "      <td>...</td>\n",
       "      <td>...</td>\n",
       "      <td>...</td>\n",
       "    </tr>\n",
       "    <tr>\n",
       "      <th>32120</th>\n",
       "      <td>1</td>\n",
       "      <td>104.0</td>\n",
       "      <td>0</td>\n",
       "      <td>0</td>\n",
       "      <td>1214</td>\n",
       "      <td>12</td>\n",
       "      <td>27</td>\n",
       "      <td>28</td>\n",
       "      <td>41.886687</td>\n",
       "      <td>-87.654798</td>\n",
       "      <td>4</td>\n",
       "      <td>12</td>\n",
       "      <td>22</td>\n",
       "    </tr>\n",
       "    <tr>\n",
       "      <th>89875</th>\n",
       "      <td>1</td>\n",
       "      <td>16.0</td>\n",
       "      <td>0</td>\n",
       "      <td>0</td>\n",
       "      <td>831</td>\n",
       "      <td>8</td>\n",
       "      <td>16</td>\n",
       "      <td>66</td>\n",
       "      <td>41.773650</td>\n",
       "      <td>-87.691492</td>\n",
       "      <td>1</td>\n",
       "      <td>16</td>\n",
       "      <td>18</td>\n",
       "    </tr>\n",
       "    <tr>\n",
       "      <th>82046</th>\n",
       "      <td>0</td>\n",
       "      <td>101.0</td>\n",
       "      <td>0</td>\n",
       "      <td>0</td>\n",
       "      <td>334</td>\n",
       "      <td>3</td>\n",
       "      <td>7</td>\n",
       "      <td>43</td>\n",
       "      <td>41.758992</td>\n",
       "      <td>-87.566073</td>\n",
       "      <td>1</td>\n",
       "      <td>29</td>\n",
       "      <td>10</td>\n",
       "    </tr>\n",
       "    <tr>\n",
       "      <th>32239</th>\n",
       "      <td>1</td>\n",
       "      <td>88.0</td>\n",
       "      <td>0</td>\n",
       "      <td>0</td>\n",
       "      <td>2212</td>\n",
       "      <td>22</td>\n",
       "      <td>19</td>\n",
       "      <td>75</td>\n",
       "      <td>41.691414</td>\n",
       "      <td>-87.668826</td>\n",
       "      <td>4</td>\n",
       "      <td>12</td>\n",
       "      <td>19</td>\n",
       "    </tr>\n",
       "    <tr>\n",
       "      <th>73567</th>\n",
       "      <td>1</td>\n",
       "      <td>91.0</td>\n",
       "      <td>0</td>\n",
       "      <td>0</td>\n",
       "      <td>433</td>\n",
       "      <td>4</td>\n",
       "      <td>10</td>\n",
       "      <td>55</td>\n",
       "      <td>41.664673</td>\n",
       "      <td>-87.556394</td>\n",
       "      <td>2</td>\n",
       "      <td>10</td>\n",
       "      <td>13</td>\n",
       "    </tr>\n",
       "  </tbody>\n",
       "</table>\n",
       "<p>79057 rows × 13 columns</p>\n",
       "</div>"
      ],
      "text/plain": [
       "       Category  Location Description  Arrest  Domestic  Beat  District  Ward  \\\n",
       "40173         2                 104.0       1         0  2012        20    40   \n",
       "22340         0                  16.0       0         1  2413        24    50   \n",
       "36871         0                  23.0       0         0   231         2     3   \n",
       "7062          0                  16.0       0         1   114         1    42   \n",
       "84631         1                  54.0       0         0   124         1    28   \n",
       "...         ...                   ...     ...       ...   ...       ...   ...   \n",
       "32120         1                 104.0       0         0  1214        12    27   \n",
       "89875         1                  16.0       0         0   831         8    16   \n",
       "82046         0                 101.0       0         0   334         3     7   \n",
       "32239         1                  88.0       0         0  2212        22    19   \n",
       "73567         1                  91.0       0         0   433         4    10   \n",
       "\n",
       "       Community Area   Latitude  Longitude  Month  Day  Hour  \n",
       "40173              77  41.978227 -87.669670      3   31    12  \n",
       "22340               2  41.994812 -87.682417      4   27    12  \n",
       "36871              40  41.794402 -87.620350      4    5    23  \n",
       "7062               32  41.886238 -87.615746      5   19     9  \n",
       "84631              28  41.868542 -87.639235      1   25    16  \n",
       "...               ...        ...        ...    ...  ...   ...  \n",
       "32120              28  41.886687 -87.654798      4   12    22  \n",
       "89875              66  41.773650 -87.691492      1   16    18  \n",
       "82046              43  41.758992 -87.566073      1   29    10  \n",
       "32239              75  41.691414 -87.668826      4   12    19  \n",
       "73567              55  41.664673 -87.556394      2   10    13  \n",
       "\n",
       "[79057 rows x 13 columns]"
      ]
     },
     "execution_count": 119,
     "metadata": {},
     "output_type": "execute_result"
    }
   ],
   "source": [
    "cleaned_data = cleaned_data.sample(frac=1)\n",
    "cleaned_data"
   ]
  },
  {
   "cell_type": "markdown",
   "id": "818039e6",
   "metadata": {},
   "source": [
    "### Check relationship between independent and dependent variables"
   ]
  },
  {
   "cell_type": "markdown",
   "id": "560cb289",
   "metadata": {},
   "source": [
    "### Multivariate analysis"
   ]
  },
  {
   "cell_type": "markdown",
   "id": "5b2ca437",
   "metadata": {},
   "source": [
    "The correlation matrix below shows that the attributes Beat, District, Ward, and Community Area are highly correlated (positively or negatively) with each other, as well as with Latitude and Longitude.\n",
    "\n",
    "This is expected because these are all attributes that represent a location on a map."
   ]
  },
  {
   "cell_type": "code",
   "execution_count": 120,
   "id": "711e8454",
   "metadata": {},
   "outputs": [
    {
     "data": {
      "image/png": "[encoded data removed]",
      "text/plain": [
       "<Figure size 1500x500 with 2 Axes>"
      ]
     },
     "metadata": {},
     "output_type": "display_data"
    }
   ],
   "source": [
    "corr_matrix = cleaned_data.corr()\n",
    "plt.figure(figsize=(15, 5))\n",
    "sns.heatmap(data = corr_matrix, annot=True, linewidths=0.2)\n",
    "plt.show()"
   ]
  },
  {
   "cell_type": "markdown",
   "id": "113ccbd4",
   "metadata": {},
   "source": [
    "I have chosen to keep the District attribute, which has 22 distinct values, and remove the other attributes that carry similar information."
   ]
  },
  {
   "cell_type": "code",
   "execution_count": 121,
   "id": "f571a5f2",
   "metadata": {},
   "outputs": [
    {
     "data": {
      "text/html": [
       "<div>\n",
       "<style scoped>\n",
       "    .dataframe tbody tr th:only-of-type {\n",
       "        vertical-align: middle;\n",
       "    }\n",
       "\n",
       "    .dataframe tbody tr th {\n",
       "        vertical-align: top;\n",
       "    }\n",
       "\n",
       "    .dataframe thead th {\n",
       "        text-align: right;\n",
       "    }\n",
       "</style>\n",
       "<table border=\"1\" class=\"dataframe\">\n",
       "  <thead>\n",
       "    <tr style=\"text-align: right;\">\n",
       "      <th></th>\n",
       "      <th>Category</th>\n",
       "      <th>Location Description</th>\n",
       "      <th>Arrest</th>\n",
       "      <th>Domestic</th>\n",
       "      <th>District</th>\n",
       "      <th>Latitude</th>\n",
       "      <th>Longitude</th>\n",
       "      <th>Month</th>\n",
       "      <th>Day</th>\n",
       "      <th>Hour</th>\n",
       "    </tr>\n",
       "  </thead>\n",
       "  <tbody>\n",
       "    <tr>\n",
       "      <th>0</th>\n",
       "      <td>2</td>\n",
       "      <td>104.0</td>\n",
       "      <td>1</td>\n",
       "      <td>0</td>\n",
       "      <td>20</td>\n",
       "      <td>41.978227</td>\n",
       "      <td>-87.669670</td>\n",
       "      <td>3</td>\n",
       "      <td>31</td>\n",
       "      <td>12</td>\n",
       "    </tr>\n",
       "    <tr>\n",
       "      <th>1</th>\n",
       "      <td>0</td>\n",
       "      <td>16.0</td>\n",
       "      <td>0</td>\n",
       "      <td>1</td>\n",
       "      <td>24</td>\n",
       "      <td>41.994812</td>\n",
       "      <td>-87.682417</td>\n",
       "      <td>4</td>\n",
       "      <td>27</td>\n",
       "      <td>12</td>\n",
       "    </tr>\n",
       "    <tr>\n",
       "      <th>2</th>\n",
       "      <td>0</td>\n",
       "      <td>23.0</td>\n",
       "      <td>0</td>\n",
       "      <td>0</td>\n",
       "      <td>2</td>\n",
       "      <td>41.794402</td>\n",
       "      <td>-87.620350</td>\n",
       "      <td>4</td>\n",
       "      <td>5</td>\n",
       "      <td>23</td>\n",
       "    </tr>\n",
       "    <tr>\n",
       "      <th>3</th>\n",
       "      <td>0</td>\n",
       "      <td>16.0</td>\n",
       "      <td>0</td>\n",
       "      <td>1</td>\n",
       "      <td>1</td>\n",
       "      <td>41.886238</td>\n",
       "      <td>-87.615746</td>\n",
       "      <td>5</td>\n",
       "      <td>19</td>\n",
       "      <td>9</td>\n",
       "    </tr>\n",
       "    <tr>\n",
       "      <th>4</th>\n",
       "      <td>1</td>\n",
       "      <td>54.0</td>\n",
       "      <td>0</td>\n",
       "      <td>0</td>\n",
       "      <td>1</td>\n",
       "      <td>41.868542</td>\n",
       "      <td>-87.639235</td>\n",
       "      <td>1</td>\n",
       "      <td>25</td>\n",
       "      <td>16</td>\n",
       "    </tr>\n",
       "    <tr>\n",
       "      <th>...</th>\n",
       "      <td>...</td>\n",
       "      <td>...</td>\n",
       "      <td>...</td>\n",
       "      <td>...</td>\n",
       "      <td>...</td>\n",
       "      <td>...</td>\n",
       "      <td>...</td>\n",
       "      <td>...</td>\n",
       "      <td>...</td>\n",
       "      <td>...</td>\n",
       "    </tr>\n",
       "    <tr>\n",
       "      <th>79052</th>\n",
       "      <td>1</td>\n",
       "      <td>104.0</td>\n",
       "      <td>0</td>\n",
       "      <td>0</td>\n",
       "      <td>12</td>\n",
       "      <td>41.886687</td>\n",
       "      <td>-87.654798</td>\n",
       "      <td>4</td>\n",
       "      <td>12</td>\n",
       "      <td>22</td>\n",
       "    </tr>\n",
       "    <tr>\n",
       "      <th>79053</th>\n",
       "      <td>1</td>\n",
       "      <td>16.0</td>\n",
       "      <td>0</td>\n",
       "      <td>0</td>\n",
       "      <td>8</td>\n",
       "      <td>41.773650</td>\n",
       "      <td>-87.691492</td>\n",
       "      <td>1</td>\n",
       "      <td>16</td>\n",
       "      <td>18</td>\n",
       "    </tr>\n",
       "    <tr>\n",
       "      <th>79054</th>\n",
       "      <td>0</td>\n",
       "      <td>101.0</td>\n",
       "      <td>0</td>\n",
       "      <td>0</td>\n",
       "      <td>3</td>\n",
       "      <td>41.758992</td>\n",
       "      <td>-87.566073</td>\n",
       "      <td>1</td>\n",
       "      <td>29</td>\n",
       "      <td>10</td>\n",
       "    </tr>\n",
       "    <tr>\n",
       "      <th>79055</th>\n",
       "      <td>1</td>\n",
       "      <td>88.0</td>\n",
       "      <td>0</td>\n",
       "      <td>0</td>\n",
       "      <td>22</td>\n",
       "      <td>41.691414</td>\n",
       "      <td>-87.668826</td>\n",
       "      <td>4</td>\n",
       "      <td>12</td>\n",
       "      <td>19</td>\n",
       "    </tr>\n",
       "    <tr>\n",
       "      <th>79056</th>\n",
       "      <td>1</td>\n",
       "      <td>91.0</td>\n",
       "      <td>0</td>\n",
       "      <td>0</td>\n",
       "      <td>4</td>\n",
       "      <td>41.664673</td>\n",
       "      <td>-87.556394</td>\n",
       "      <td>2</td>\n",
       "      <td>10</td>\n",
       "      <td>13</td>\n",
       "    </tr>\n",
       "  </tbody>\n",
       "</table>\n",
       "<p>79057 rows × 10 columns</p>\n",
       "</div>"
      ],
      "text/plain": [
       "       Category  Location Description  Arrest  Domestic  District   Latitude  \\\n",
       "0             2                 104.0       1         0        20  41.978227   \n",
       "1             0                  16.0       0         1        24  41.994812   \n",
       "2             0                  23.0       0         0         2  41.794402   \n",
       "3             0                  16.0       0         1         1  41.886238   \n",
       "4             1                  54.0       0         0         1  41.868542   \n",
       "...         ...                   ...     ...       ...       ...        ...   \n",
       "79052         1                 104.0       0         0        12  41.886687   \n",
       "79053         1                  16.0       0         0         8  41.773650   \n",
       "79054         0                 101.0       0         0         3  41.758992   \n",
       "79055         1                  88.0       0         0        22  41.691414   \n",
       "79056         1                  91.0       0         0         4  41.664673   \n",
       "\n",
       "       Longitude  Month  Day  Hour  \n",
       "0     -87.669670      3   31    12  \n",
       "1     -87.682417      4   27    12  \n",
       "2     -87.620350      4    5    23  \n",
       "3     -87.615746      5   19     9  \n",
       "4     -87.639235      1   25    16  \n",
       "...          ...    ...  ...   ...  \n",
       "79052 -87.654798      4   12    22  \n",
       "79053 -87.691492      1   16    18  \n",
       "79054 -87.566073      1   29    10  \n",
       "79055 -87.668826      4   12    19  \n",
       "79056 -87.556394      2   10    13  \n",
       "\n",
       "[79057 rows x 10 columns]"
      ]
     },
     "execution_count": 121,
     "metadata": {},
     "output_type": "execute_result"
    }
   ],
   "source": [
    "cleaned_data.drop(columns = ['Beat', 'Ward', 'Community Area'], inplace = True)\n",
    "cleaned_data.reset_index(drop=True, inplace=True)\n",
    "cleaned_data"
   ]
  },
  {
   "cell_type": "markdown",
   "id": "3bec5584",
   "metadata": {},
   "source": [
    "# Modeling"
   ]
  },
  {
   "cell_type": "markdown",
   "id": "fb3208ab",
   "metadata": {},
   "source": [
    "Before starting modeling, and knowing that some models require preserving the entire dataset, we are aware that with our dataset containing over 90000 examples, some models would take an eternity to train on our resource-limited computers.\n",
    "\n",
    "Therefore, we have decided to work on a sample (of 20,000 rows) of the original dataset that is as representative as possible of the initial dataset.\n",
    "\n",
    "We use the sample function to sample the data. Then, we employ the Kolmogorov-Smirnov test to verify that the sampling process did not cause us to lose significant data.\n",
    "\n",
    "To check this, we require that all p-values be at least greater than 5% (0.05).\n"
   ]
  },
  {
   "cell_type": "code",
   "execution_count": 144,
   "id": "beba1dc5",
   "metadata": {},
   "outputs": [
    {
     "data": {
      "text/plain": [
       "[0.791453588735378,\n",
       " 0.6386675383956851,\n",
       " 0.9999999819887615,\n",
       " 1.0,\n",
       " 0.9651962818424997,\n",
       " 0.7166193118701658,\n",
       " 0.8080277434843718,\n",
       " 0.9656710385905658,\n",
       " 0.729513699122436,\n",
       " 0.6806110134390486]"
      ]
     },
     "execution_count": 144,
     "metadata": {},
     "output_type": "execute_result"
    }
   ],
   "source": [
    "from scipy.stats import ks_2samp\n",
    "\n",
    "sample_size = 20000\n",
    "subsample = cleaned_data.sample(sample_size, axis = 0, random_state=1)\n",
    "pvalues = [None for _ in range(cleaned_data.shape[1])]\n",
    "for col in range(cleaned_data.shape[1]) :\n",
    "    # Using Kolmogorov-Smirnov test to check whether the sample truely represents the original dataset\n",
    "    _, pvalues[col] = ks_2samp(cleaned_data.iloc[:,col], subsample.iloc[:,col])\n",
    "\n",
    "pvalues"
   ]
  },
  {
   "cell_type": "markdown",
   "id": "30bb7972",
   "metadata": {},
   "source": [
    "We keep our original DataFrame in cleaned_legacy_data and the sample in cleaned_data"
   ]
  },
  {
   "cell_type": "code",
   "execution_count": 145,
   "id": "2b80ce77",
   "metadata": {},
   "outputs": [],
   "source": [
    "cleaned_legacy_data = cleaned_data\n",
    "cleaned_data = subsample\n",
    "cleaned_data.reset_index(drop=True, inplace=True)"
   ]
  },
  {
   "cell_type": "markdown",
   "id": "3f60e88d",
   "metadata": {},
   "source": [
    "I separate the attribute I want to predict, which contains the 3 classes of the dataset, and put it in the y variable, and the rest of the attributes in the X variable.\n",
    "\n",
    "Then perform multiclass classification."
   ]
  },
  {
   "cell_type": "code",
   "execution_count": 122,
   "id": "3f4f75f6",
   "metadata": {},
   "outputs": [],
   "source": [
    "X = cleaned_data.drop('Category', axis=1)\n",
    "y = cleaned_data['Category']"
   ]
  },
  {
   "cell_type": "markdown",
   "id": "7ff3d888",
   "metadata": {},
   "source": [
    "I created the training set (70%) and the test set (30%):"
   ]
  },
  {
   "cell_type": "code",
   "execution_count": 123,
   "id": "1f6d1e2f",
   "metadata": {},
   "outputs": [],
   "source": [
    "from sklearn.model_selection import train_test_split\n",
    "X_train, X_test, y_train, y_test = train_test_split(X.values, y.values, test_size = 0.3, random_state = 42)"
   ]
  },
  {
   "cell_type": "markdown",
   "id": "067ec7d0",
   "metadata": {},
   "source": [
    "We standardize our attributes using a StandardScaler to improve training performance and avoid numerical problems during gradient calculation and objective function optimization. (To prevent attributes from having very different scales.)"
   ]
  },
  {
   "cell_type": "code",
   "execution_count": 124,
   "id": "b0197f97",
   "metadata": {},
   "outputs": [],
   "source": [
    "from sklearn.preprocessing import StandardScaler\n",
    "scaler = StandardScaler()\n",
    "X_train = scaler.fit_transform(X_train)\n",
    "X_test = scaler.transform(X_test)"
   ]
  },
  {
   "cell_type": "markdown",
   "id": "8ec0cc94",
   "metadata": {},
   "source": [
    "### KNN \n",
    "We start with a K Nearest Neighbor model.\n",
    "\n",
    "We choose the optimal n_neighbors hyperparameter using GridSearchCV.\n",
    "\n",
    "We preferred to use the f1_weighted score (f1 score weighted by the class proportions in our dataset) for all our models since it is a score that better represents the performance during multiclass classification with an unbalanced dataset (which is our case)."
   ]
  },
  {
   "cell_type": "code",
   "execution_count": 125,
   "id": "fd510f4f",
   "metadata": {},
   "outputs": [
    {
     "name": "stdout",
     "output_type": "stream",
     "text": [
      "Fitting 5 folds for each of 10 candidates, totalling 50 fits\n"
     ]
    }
   ],
   "source": [
    "# Use the \"GridSearchCV\" method to perform cross-validation of the k parameter of a kNN\n",
    "from sklearn.model_selection import GridSearchCV\n",
    "from sklearn.neighbors import KNeighborsClassifier\n",
    "from sklearn.metrics import balanced_accuracy_score\n",
    "\n",
    "\n",
    "# Set the values of the hyperparameters to test\n",
    "param_grid = {'n_neighbors':[13, 15, 17, 19, 21, 23, 25, 27, 29, 31]}\n",
    "\n",
    "# Choose a score to optimize, here weighted f1-score (more significant than accuracy especially in multiclass)\n",
    "score = 'f1_weighted'\n",
    "\n",
    "# Create a kNN classifier with hyperparameter search by cross-validation\n",
    "knn_grid = GridSearchCV(KNeighborsClassifier(), param_grid, cv = 5, verbose = 1, scoring = score)\n",
    "\n",
    "# Optimize this classifier on the training set\n",
    "clf_results = knn_grid.fit(X_train,y_train)"
   ]
  },
  {
   "cell_type": "code",
   "execution_count": 126,
   "id": "04285f13",
   "metadata": {},
   "outputs": [
    {
     "name": "stdout",
     "output_type": "stream",
     "text": [
      "Best parameters : {'n_neighbors': 27}\n",
      "Best cross-validation score : 0.71\n"
     ]
    }
   ],
   "source": [
    "# Display the optimal hyperparameter(s).\n",
    "print(\"Best parameters : {}\".format(knn_grid.best_params_))\n",
    "print(\"Best cross-validation score : {:.2f}\".format(knn_grid.best_score_))"
   ]
  },
  {
   "cell_type": "code",
   "execution_count": 127,
   "id": "72af907c",
   "metadata": {},
   "outputs": [
    {
     "name": "stdout",
     "output_type": "stream",
     "text": [
      "Cross-Validation Results :\n",
      "f1_weighted = 0.704 (+/-0.005) for {'n_neighbors': 13}\n",
      "f1_weighted = 0.707 (+/-0.005) for {'n_neighbors': 15}\n",
      "f1_weighted = 0.707 (+/-0.003) for {'n_neighbors': 17}\n",
      "f1_weighted = 0.708 (+/-0.003) for {'n_neighbors': 19}\n",
      "f1_weighted = 0.707 (+/-0.004) for {'n_neighbors': 21}\n",
      "f1_weighted = 0.709 (+/-0.005) for {'n_neighbors': 23}\n",
      "f1_weighted = 0.709 (+/-0.004) for {'n_neighbors': 25}\n",
      "f1_weighted = 0.710 (+/-0.006) for {'n_neighbors': 27}\n",
      "f1_weighted = 0.710 (+/-0.004) for {'n_neighbors': 29}\n",
      "f1_weighted = 0.710 (+/-0.004) for {'n_neighbors': 31}\n"
     ]
    }
   ],
   "source": [
    "# Display the corresponding performance\n",
    "print(\"Cross-Validation Results :\")\n",
    "for mean, std, params in zip(\n",
    "        knn_grid.cv_results_['mean_test_score'], # average score\n",
    "        knn_grid.cv_results_['std_test_score'],  # std score\n",
    "        knn_grid.cv_results_['params']           # hyperparameter value\n",
    "    ):\n",
    "\n",
    "    print(\"{} = {:.3f} (+/-{:.03f}) for {}\".format(\n",
    "        score,\n",
    "        mean,\n",
    "        std*2,\n",
    "        params\n",
    "    ) )"
   ]
  },
  {
   "cell_type": "markdown",
   "id": "54b7802a",
   "metadata": {},
   "source": [
    "Average Model Performance by Cross-Validation\n",
    "\n",
    "We use the cross_validate function adapted to the multiclass case:\n",
    "\n",
    "- Weighted precision\n",
    "- Weighted recall\n",
    "- Balanced accuracy\n",
    "- Weighted F1 score\n",
    "- ROC AUC with one vs rest and weighting"
   ]
  },
  {
   "cell_type": "code",
   "execution_count": 128,
   "id": "380b0092",
   "metadata": {},
   "outputs": [
    {
     "name": "stdout",
     "output_type": "stream",
     "text": [
      "Fitting 5 folds for each of 10 candidates, totalling 50 fits\n",
      "Fitting 5 folds for each of 10 candidates, totalling 50 fits\n",
      "Fitting 5 folds for each of 10 candidates, totalling 50 fits\n",
      "Fitting 5 folds for each of 10 candidates, totalling 50 fits\n",
      "Fitting 5 folds for each of 10 candidates, totalling 50 fits\n"
     ]
    }
   ],
   "source": [
    "from sklearn.model_selection import cross_validate\n",
    "scores_knn = cross_validate(knn_grid, X_train, y_train, cv=5,scoring=('precision_weighted','recall_weighted','balanced_accuracy','f1_weighted','roc_auc_ovr_weighted'))"
   ]
  },
  {
   "cell_type": "markdown",
   "id": "cd32fe25",
   "metadata": {},
   "source": [
    "The performance of this model: (70.9%)"
   ]
  },
  {
   "cell_type": "code",
   "execution_count": 129,
   "id": "a09f0b36",
   "metadata": {},
   "outputs": [
    {
     "name": "stdout",
     "output_type": "stream",
     "text": [
      "Cross-validation performance : 0.709\n"
     ]
    }
   ],
   "source": [
    "print(\"Cross-validation performance : {:.3f}\".format(scores_knn['test_f1_weighted'].mean()))"
   ]
  },
  {
   "cell_type": "markdown",
   "id": "49993618",
   "metadata": {},
   "source": [
    "## Random Forest"
   ]
  },
  {
   "cell_type": "markdown",
   "id": "ab0e440e",
   "metadata": {},
   "source": [
    "We move on to a Random Forest model.\n",
    "\n",
    "We choose the optimal n_estimators and max_depth hyperparameters using RandomizedSearchCV this time."
   ]
  },
  {
   "cell_type": "code",
   "execution_count": 130,
   "id": "6b7fc1c7",
   "metadata": {},
   "outputs": [
    {
     "name": "stdout",
     "output_type": "stream",
     "text": [
      "Fitting 5 folds for each of 50 candidates, totalling 250 fits\n"
     ]
    },
    {
     "data": {
      "text/html": [
       "<style>#sk-container-id-1 {color: black;}#sk-container-id-1 pre{padding: 0;}#sk-container-id-1 div.sk-toggleable {background-color: white;}#sk-container-id-1 label.sk-toggleable__label {cursor: pointer;display: block;width: 100%;margin-bottom: 0;padding: 0.3em;box-sizing: border-box;text-align: center;}#sk-container-id-1 label.sk-toggleable__label-arrow:before {content: \"▸\";float: left;margin-right: 0.25em;color: #696969;}#sk-container-id-1 label.sk-toggleable__label-arrow:hover:before {color: black;}#sk-container-id-1 div.sk-estimator:hover label.sk-toggleable__label-arrow:before {color: black;}#sk-container-id-1 div.sk-toggleable__content {max-height: 0;max-width: 0;overflow: hidden;text-align: left;background-color: #f0f8ff;}#sk-container-id-1 div.sk-toggleable__content pre {margin: 0.2em;color: black;border-radius: 0.25em;background-color: #f0f8ff;}#sk-container-id-1 input.sk-toggleable__control:checked~div.sk-toggleable__content {max-height: 200px;max-width: 100%;overflow: auto;}#sk-container-id-1 input.sk-toggleable__control:checked~label.sk-toggleable__label-arrow:before {content: \"▾\";}#sk-container-id-1 div.sk-estimator input.sk-toggleable__control:checked~label.sk-toggleable__label {background-color: #d4ebff;}#sk-container-id-1 div.sk-label input.sk-toggleable__control:checked~label.sk-toggleable__label {background-color: #d4ebff;}#sk-container-id-1 input.sk-hidden--visually {border: 0;clip: rect(1px 1px 1px 1px);clip: rect(1px, 1px, 1px, 1px);height: 1px;margin: -1px;overflow: hidden;padding: 0;position: absolute;width: 1px;}#sk-container-id-1 div.sk-estimator {font-family: monospace;background-color: #f0f8ff;border: 1px dotted black;border-radius: 0.25em;box-sizing: border-box;margin-bottom: 0.5em;}#sk-container-id-1 div.sk-estimator:hover {background-color: #d4ebff;}#sk-container-id-1 div.sk-parallel-item::after {content: \"\";width: 100%;border-bottom: 1px solid gray;flex-grow: 1;}#sk-container-id-1 div.sk-label:hover label.sk-toggleable__label {background-color: #d4ebff;}#sk-container-id-1 div.sk-serial::before {content: \"\";position: absolute;border-left: 1px solid gray;box-sizing: border-box;top: 0;bottom: 0;left: 50%;z-index: 0;}#sk-container-id-1 div.sk-serial {display: flex;flex-direction: column;align-items: center;background-color: white;padding-right: 0.2em;padding-left: 0.2em;position: relative;}#sk-container-id-1 div.sk-item {position: relative;z-index: 1;}#sk-container-id-1 div.sk-parallel {display: flex;align-items: stretch;justify-content: center;background-color: white;position: relative;}#sk-container-id-1 div.sk-item::before, #sk-container-id-1 div.sk-parallel-item::before {content: \"\";position: absolute;border-left: 1px solid gray;box-sizing: border-box;top: 0;bottom: 0;left: 50%;z-index: -1;}#sk-container-id-1 div.sk-parallel-item {display: flex;flex-direction: column;z-index: 1;position: relative;background-color: white;}#sk-container-id-1 div.sk-parallel-item:first-child::after {align-self: flex-end;width: 50%;}#sk-container-id-1 div.sk-parallel-item:last-child::after {align-self: flex-start;width: 50%;}#sk-container-id-1 div.sk-parallel-item:only-child::after {width: 0;}#sk-container-id-1 div.sk-dashed-wrapped {border: 1px dashed gray;margin: 0 0.4em 0.5em 0.4em;box-sizing: border-box;padding-bottom: 0.4em;background-color: white;}#sk-container-id-1 div.sk-label label {font-family: monospace;font-weight: bold;display: inline-block;line-height: 1.2em;}#sk-container-id-1 div.sk-label-container {text-align: center;}#sk-container-id-1 div.sk-container {/* jupyter's `normalize.less` sets `[hidden] { display: none; }` but bootstrap.min.css set `[hidden] { display: none !important; }` so we also need the `!important` here to be able to override the default hidden behavior on the sphinx rendered scikit-learn.org. See: https://github.com/scikit-learn/scikit-learn/issues/21755 */display: inline-block !important;position: relative;}#sk-container-id-1 div.sk-text-repr-fallback {display: none;}</style><div id=\"sk-container-id-1\" class=\"sk-top-container\"><div class=\"sk-text-repr-fallback\"><pre>RandomizedSearchCV(cv=5, estimator=RandomForestClassifier(), n_iter=50,\n",
       "                   n_jobs=-1,\n",
       "                   param_distributions={&#x27;max_depth&#x27;: [20, 40, 60, 80, 100],\n",
       "                                        &#x27;n_estimators&#x27;: [20, 40, 60, 80, 100,\n",
       "                                                         120, 140, 160, 180,\n",
       "                                                         200]},\n",
       "                   random_state=1, scoring=&#x27;f1_weighted&#x27;, verbose=2)</pre><b>In a Jupyter environment, please rerun this cell to show the HTML representation or trust the notebook. <br />On GitHub, the HTML representation is unable to render, please try loading this page with nbviewer.org.</b></div><div class=\"sk-container\" hidden><div class=\"sk-item sk-dashed-wrapped\"><div class=\"sk-label-container\"><div class=\"sk-label sk-toggleable\"><input class=\"sk-toggleable__control sk-hidden--visually\" id=\"sk-estimator-id-1\" type=\"checkbox\" ><label for=\"sk-estimator-id-1\" class=\"sk-toggleable__label sk-toggleable__label-arrow\">RandomizedSearchCV</label><div class=\"sk-toggleable__content\"><pre>RandomizedSearchCV(cv=5, estimator=RandomForestClassifier(), n_iter=50,\n",
       "                   n_jobs=-1,\n",
       "                   param_distributions={&#x27;max_depth&#x27;: [20, 40, 60, 80, 100],\n",
       "                                        &#x27;n_estimators&#x27;: [20, 40, 60, 80, 100,\n",
       "                                                         120, 140, 160, 180,\n",
       "                                                         200]},\n",
       "                   random_state=1, scoring=&#x27;f1_weighted&#x27;, verbose=2)</pre></div></div></div><div class=\"sk-parallel\"><div class=\"sk-parallel-item\"><div class=\"sk-item\"><div class=\"sk-label-container\"><div class=\"sk-label sk-toggleable\"><input class=\"sk-toggleable__control sk-hidden--visually\" id=\"sk-estimator-id-2\" type=\"checkbox\" ><label for=\"sk-estimator-id-2\" class=\"sk-toggleable__label sk-toggleable__label-arrow\">estimator: RandomForestClassifier</label><div class=\"sk-toggleable__content\"><pre>RandomForestClassifier()</pre></div></div></div><div class=\"sk-serial\"><div class=\"sk-item\"><div class=\"sk-estimator sk-toggleable\"><input class=\"sk-toggleable__control sk-hidden--visually\" id=\"sk-estimator-id-3\" type=\"checkbox\" ><label for=\"sk-estimator-id-3\" class=\"sk-toggleable__label sk-toggleable__label-arrow\">RandomForestClassifier</label><div class=\"sk-toggleable__content\"><pre>RandomForestClassifier()</pre></div></div></div></div></div></div></div></div></div></div>"
      ],
      "text/plain": [
       "RandomizedSearchCV(cv=5, estimator=RandomForestClassifier(), n_iter=50,\n",
       "                   n_jobs=-1,\n",
       "                   param_distributions={'max_depth': [20, 40, 60, 80, 100],\n",
       "                                        'n_estimators': [20, 40, 60, 80, 100,\n",
       "                                                         120, 140, 160, 180,\n",
       "                                                         200]},\n",
       "                   random_state=1, scoring='f1_weighted', verbose=2)"
      ]
     },
     "execution_count": 130,
     "metadata": {},
     "output_type": "execute_result"
    }
   ],
   "source": [
    "from sklearn.ensemble import RandomForestClassifier\n",
    "from sklearn.model_selection import RandomizedSearchCV\n",
    "random_grid = {\n",
    " 'n_estimators': [int(x) for x in np.linspace(start = 20, stop = 200, num = 10)],\n",
    " 'max_depth': [int(x) for x in np.linspace(20, 100, num = 5)]}\n",
    "\n",
    "rf_random = RandomizedSearchCV(estimator = RandomForestClassifier(),\n",
    "                               param_distributions = random_grid,\n",
    "                               n_iter=50,\n",
    "                               cv=5,\n",
    "                               verbose=2,\n",
    "                               random_state=1,\n",
    "                               scoring='f1_weighted',\n",
    "                               n_jobs=-1)\n",
    "rf_random.fit(X_train,y_train)"
   ]
  },
  {
   "cell_type": "code",
   "execution_count": 131,
   "id": "11c12185",
   "metadata": {},
   "outputs": [
    {
     "name": "stdout",
     "output_type": "stream",
     "text": [
      "Best parameters : {'n_estimators': 140, 'max_depth': 20}\n",
      "Best cross-validation score : 0.76\n"
     ]
    }
   ],
   "source": [
    "print(\"Best parameters : {}\".format(rf_random.best_params_))\n",
    "print(\"Best cross-validation score : {:.2f}\".format(rf_random.best_score_))"
   ]
  },
  {
   "cell_type": "code",
   "execution_count": 139,
   "id": "f23f41d5",
   "metadata": {},
   "outputs": [
    {
     "name": "stdout",
     "output_type": "stream",
     "text": [
      "Fitting 5 folds for each of 50 candidates, totalling 250 fits\n",
      "Fitting 5 folds for each of 50 candidates, totalling 250 fits\n",
      "Fitting 5 folds for each of 50 candidates, totalling 250 fits\n",
      "Cross-validation performance : 0.756\n"
     ]
    }
   ],
   "source": [
    "scores_rf_random = cross_validate(rf_random, X_train, y_train, cv=3,\n",
    "                    scoring=('precision_weighted','recall_weighted','balanced_accuracy','f1_weighted','roc_auc_ovr_weighted'))\n",
    "print(\"Cross-validation performance : {:.3f}\".format(scores_rf_random['test_f1_weighted'].mean()))"
   ]
  },
  {
   "cell_type": "markdown",
   "id": "470e5261",
   "metadata": {},
   "source": [
    "As expected, the Random Forest model performs slightly better than a KNN."
   ]
  },
  {
   "cell_type": "markdown",
   "id": "fa98aa24",
   "metadata": {},
   "source": [
    "Calculation of the Average Model Performance by Cross-Validation\n",
    "\n",
    "Then we display it: (75.60%)"
   ]
  },
  {
   "cell_type": "markdown",
   "id": "dfb5c6a6",
   "metadata": {},
   "source": [
    "## XGBoost\n"
   ]
  },
  {
   "cell_type": "markdown",
   "id": "17e81f74",
   "metadata": {},
   "source": [
    "\n",
    "We now move on to a well-known model for its effectiveness: XGBoost.\n",
    "\n",
    "The model has a large number of hyperparameters. We select the best combination of some of them for the values given in the param_dist dictionary, using RandomizedSearchCV once again.\n",
    "\n",
    "We also use a KFold object this time to choose the number of folds on our training data that we will use for cross-validation in RandomizedSearchCV.\n",
    "\n",
    "The objective function that we specify for the classifier in our multiclass case is 'multi:softmax'. The scoring is always with 'f1_weighted'. Finally, the evaluation metric (eval_metric) in the fit function is the 'multi log loss' (loss function)."
   ]
  },
  {
   "cell_type": "code",
   "execution_count": 148,
   "id": "9d776ab7",
   "metadata": {},
   "outputs": [
    {
     "name": "stdout",
     "output_type": "stream",
     "text": [
      "Fitting 3 folds for each of 50 candidates, totalling 150 fits\n"
     ]
    },
    {
     "name": "stderr",
     "output_type": "stream",
     "text": [
      "h:\\MORINGA\\anaconda\\Lib\\site-packages\\xgboost\\sklearn.py:835: UserWarning: `eval_metric` in `fit` method is deprecated for better compatibility with scikit-learn, use `eval_metric` in constructor or`set_params` instead.\n",
      "  warnings.warn(\n"
     ]
    },
    {
     "data": {
      "text/html": [
       "<style>#sk-container-id-2 {color: black;}#sk-container-id-2 pre{padding: 0;}#sk-container-id-2 div.sk-toggleable {background-color: white;}#sk-container-id-2 label.sk-toggleable__label {cursor: pointer;display: block;width: 100%;margin-bottom: 0;padding: 0.3em;box-sizing: border-box;text-align: center;}#sk-container-id-2 label.sk-toggleable__label-arrow:before {content: \"▸\";float: left;margin-right: 0.25em;color: #696969;}#sk-container-id-2 label.sk-toggleable__label-arrow:hover:before {color: black;}#sk-container-id-2 div.sk-estimator:hover label.sk-toggleable__label-arrow:before {color: black;}#sk-container-id-2 div.sk-toggleable__content {max-height: 0;max-width: 0;overflow: hidden;text-align: left;background-color: #f0f8ff;}#sk-container-id-2 div.sk-toggleable__content pre {margin: 0.2em;color: black;border-radius: 0.25em;background-color: #f0f8ff;}#sk-container-id-2 input.sk-toggleable__control:checked~div.sk-toggleable__content {max-height: 200px;max-width: 100%;overflow: auto;}#sk-container-id-2 input.sk-toggleable__control:checked~label.sk-toggleable__label-arrow:before {content: \"▾\";}#sk-container-id-2 div.sk-estimator input.sk-toggleable__control:checked~label.sk-toggleable__label {background-color: #d4ebff;}#sk-container-id-2 div.sk-label input.sk-toggleable__control:checked~label.sk-toggleable__label {background-color: #d4ebff;}#sk-container-id-2 input.sk-hidden--visually {border: 0;clip: rect(1px 1px 1px 1px);clip: rect(1px, 1px, 1px, 1px);height: 1px;margin: -1px;overflow: hidden;padding: 0;position: absolute;width: 1px;}#sk-container-id-2 div.sk-estimator {font-family: monospace;background-color: #f0f8ff;border: 1px dotted black;border-radius: 0.25em;box-sizing: border-box;margin-bottom: 0.5em;}#sk-container-id-2 div.sk-estimator:hover {background-color: #d4ebff;}#sk-container-id-2 div.sk-parallel-item::after {content: \"\";width: 100%;border-bottom: 1px solid gray;flex-grow: 1;}#sk-container-id-2 div.sk-label:hover label.sk-toggleable__label {background-color: #d4ebff;}#sk-container-id-2 div.sk-serial::before {content: \"\";position: absolute;border-left: 1px solid gray;box-sizing: border-box;top: 0;bottom: 0;left: 50%;z-index: 0;}#sk-container-id-2 div.sk-serial {display: flex;flex-direction: column;align-items: center;background-color: white;padding-right: 0.2em;padding-left: 0.2em;position: relative;}#sk-container-id-2 div.sk-item {position: relative;z-index: 1;}#sk-container-id-2 div.sk-parallel {display: flex;align-items: stretch;justify-content: center;background-color: white;position: relative;}#sk-container-id-2 div.sk-item::before, #sk-container-id-2 div.sk-parallel-item::before {content: \"\";position: absolute;border-left: 1px solid gray;box-sizing: border-box;top: 0;bottom: 0;left: 50%;z-index: -1;}#sk-container-id-2 div.sk-parallel-item {display: flex;flex-direction: column;z-index: 1;position: relative;background-color: white;}#sk-container-id-2 div.sk-parallel-item:first-child::after {align-self: flex-end;width: 50%;}#sk-container-id-2 div.sk-parallel-item:last-child::after {align-self: flex-start;width: 50%;}#sk-container-id-2 div.sk-parallel-item:only-child::after {width: 0;}#sk-container-id-2 div.sk-dashed-wrapped {border: 1px dashed gray;margin: 0 0.4em 0.5em 0.4em;box-sizing: border-box;padding-bottom: 0.4em;background-color: white;}#sk-container-id-2 div.sk-label label {font-family: monospace;font-weight: bold;display: inline-block;line-height: 1.2em;}#sk-container-id-2 div.sk-label-container {text-align: center;}#sk-container-id-2 div.sk-container {/* jupyter's `normalize.less` sets `[hidden] { display: none; }` but bootstrap.min.css set `[hidden] { display: none !important; }` so we also need the `!important` here to be able to override the default hidden behavior on the sphinx rendered scikit-learn.org. See: https://github.com/scikit-learn/scikit-learn/issues/21755 */display: inline-block !important;position: relative;}#sk-container-id-2 div.sk-text-repr-fallback {display: none;}</style><div id=\"sk-container-id-2\" class=\"sk-top-container\"><div class=\"sk-text-repr-fallback\"><pre>RandomizedSearchCV(cv=KFold(n_splits=3, random_state=1, shuffle=True),\n",
       "                   error_score=0,\n",
       "                   estimator=XGBClassifier(base_score=None, booster=None,\n",
       "                                           callbacks=None,\n",
       "                                           colsample_bylevel=None,\n",
       "                                           colsample_bynode=None,\n",
       "                                           colsample_bytree=None,\n",
       "                                           early_stopping_rounds=None,\n",
       "                                           enable_categorical=False,\n",
       "                                           eval_metric=None, feature_types=None,\n",
       "                                           gamma=None, gpu_id=None,\n",
       "                                           grow_policy=None,\n",
       "                                           impor...\n",
       "                   n_iter=50, n_jobs=-1,\n",
       "                   param_distributions={&#x27;colsample_bytree&#x27;: [0.60980260257233,\n",
       "                                                             0.6153601500345791,\n",
       "                                                             0.8693058013111807],\n",
       "                                        &#x27;learning_rate&#x27;: [0.001, 0.003, 0.01,\n",
       "                                                          0.03, 0.1, 0.3],\n",
       "                                        &#x27;max_depth&#x27;: [20, 40, 60, 80, 100],\n",
       "                                        &#x27;n_estimators&#x27;: [20, 40, 60, 80, 100,\n",
       "                                                         120, 140, 160, 180,\n",
       "                                                         200],\n",
       "                                        &#x27;subsample&#x27;: [0.7633744443022432,\n",
       "                                                      0.5901660593287321,\n",
       "                                                      0.8113197920917392]},\n",
       "                   scoring=&#x27;f1_weighted&#x27;, verbose=3)</pre><b>In a Jupyter environment, please rerun this cell to show the HTML representation or trust the notebook. <br />On GitHub, the HTML representation is unable to render, please try loading this page with nbviewer.org.</b></div><div class=\"sk-container\" hidden><div class=\"sk-item sk-dashed-wrapped\"><div class=\"sk-label-container\"><div class=\"sk-label sk-toggleable\"><input class=\"sk-toggleable__control sk-hidden--visually\" id=\"sk-estimator-id-4\" type=\"checkbox\" ><label for=\"sk-estimator-id-4\" class=\"sk-toggleable__label sk-toggleable__label-arrow\">RandomizedSearchCV</label><div class=\"sk-toggleable__content\"><pre>RandomizedSearchCV(cv=KFold(n_splits=3, random_state=1, shuffle=True),\n",
       "                   error_score=0,\n",
       "                   estimator=XGBClassifier(base_score=None, booster=None,\n",
       "                                           callbacks=None,\n",
       "                                           colsample_bylevel=None,\n",
       "                                           colsample_bynode=None,\n",
       "                                           colsample_bytree=None,\n",
       "                                           early_stopping_rounds=None,\n",
       "                                           enable_categorical=False,\n",
       "                                           eval_metric=None, feature_types=None,\n",
       "                                           gamma=None, gpu_id=None,\n",
       "                                           grow_policy=None,\n",
       "                                           impor...\n",
       "                   n_iter=50, n_jobs=-1,\n",
       "                   param_distributions={&#x27;colsample_bytree&#x27;: [0.60980260257233,\n",
       "                                                             0.6153601500345791,\n",
       "                                                             0.8693058013111807],\n",
       "                                        &#x27;learning_rate&#x27;: [0.001, 0.003, 0.01,\n",
       "                                                          0.03, 0.1, 0.3],\n",
       "                                        &#x27;max_depth&#x27;: [20, 40, 60, 80, 100],\n",
       "                                        &#x27;n_estimators&#x27;: [20, 40, 60, 80, 100,\n",
       "                                                         120, 140, 160, 180,\n",
       "                                                         200],\n",
       "                                        &#x27;subsample&#x27;: [0.7633744443022432,\n",
       "                                                      0.5901660593287321,\n",
       "                                                      0.8113197920917392]},\n",
       "                   scoring=&#x27;f1_weighted&#x27;, verbose=3)</pre></div></div></div><div class=\"sk-parallel\"><div class=\"sk-parallel-item\"><div class=\"sk-item\"><div class=\"sk-label-container\"><div class=\"sk-label sk-toggleable\"><input class=\"sk-toggleable__control sk-hidden--visually\" id=\"sk-estimator-id-5\" type=\"checkbox\" ><label for=\"sk-estimator-id-5\" class=\"sk-toggleable__label sk-toggleable__label-arrow\">estimator: XGBClassifier</label><div class=\"sk-toggleable__content\"><pre>XGBClassifier(base_score=None, booster=None, callbacks=None,\n",
       "              colsample_bylevel=None, colsample_bynode=None,\n",
       "              colsample_bytree=None, early_stopping_rounds=None,\n",
       "              enable_categorical=False, eval_metric=None, feature_types=None,\n",
       "              gamma=None, gpu_id=None, grow_policy=None, importance_type=None,\n",
       "              interaction_constraints=None, learning_rate=None, max_bin=None,\n",
       "              max_cat_threshold=None, max_cat_to_onehot=None,\n",
       "              max_delta_step=None, max_depth=None, max_leaves=None,\n",
       "              min_child_weight=None, missing=nan, monotone_constraints=None,\n",
       "              n_estimators=100, n_jobs=None, num_parallel_tree=None,\n",
       "              objective=&#x27;multi:softmax&#x27;, predictor=None, ...)</pre></div></div></div><div class=\"sk-serial\"><div class=\"sk-item\"><div class=\"sk-estimator sk-toggleable\"><input class=\"sk-toggleable__control sk-hidden--visually\" id=\"sk-estimator-id-6\" type=\"checkbox\" ><label for=\"sk-estimator-id-6\" class=\"sk-toggleable__label sk-toggleable__label-arrow\">XGBClassifier</label><div class=\"sk-toggleable__content\"><pre>XGBClassifier(base_score=None, booster=None, callbacks=None,\n",
       "              colsample_bylevel=None, colsample_bynode=None,\n",
       "              colsample_bytree=None, early_stopping_rounds=None,\n",
       "              enable_categorical=False, eval_metric=None, feature_types=None,\n",
       "              gamma=None, gpu_id=None, grow_policy=None, importance_type=None,\n",
       "              interaction_constraints=None, learning_rate=None, max_bin=None,\n",
       "              max_cat_threshold=None, max_cat_to_onehot=None,\n",
       "              max_delta_step=None, max_depth=None, max_leaves=None,\n",
       "              min_child_weight=None, missing=nan, monotone_constraints=None,\n",
       "              n_estimators=100, n_jobs=None, num_parallel_tree=None,\n",
       "              objective=&#x27;multi:softmax&#x27;, predictor=None, ...)</pre></div></div></div></div></div></div></div></div></div></div>"
      ],
      "text/plain": [
       "RandomizedSearchCV(cv=KFold(n_splits=3, random_state=1, shuffle=True),\n",
       "                   error_score=0,\n",
       "                   estimator=XGBClassifier(base_score=None, booster=None,\n",
       "                                           callbacks=None,\n",
       "                                           colsample_bylevel=None,\n",
       "                                           colsample_bynode=None,\n",
       "                                           colsample_bytree=None,\n",
       "                                           early_stopping_rounds=None,\n",
       "                                           enable_categorical=False,\n",
       "                                           eval_metric=None, feature_types=None,\n",
       "                                           gamma=None, gpu_id=None,\n",
       "                                           grow_policy=None,\n",
       "                                           impor...\n",
       "                   n_iter=50, n_jobs=-1,\n",
       "                   param_distributions={'colsample_bytree': [0.60980260257233,\n",
       "                                                             0.6153601500345791,\n",
       "                                                             0.8693058013111807],\n",
       "                                        'learning_rate': [0.001, 0.003, 0.01,\n",
       "                                                          0.03, 0.1, 0.3],\n",
       "                                        'max_depth': [20, 40, 60, 80, 100],\n",
       "                                        'n_estimators': [20, 40, 60, 80, 100,\n",
       "                                                         120, 140, 160, 180,\n",
       "                                                         200],\n",
       "                                        'subsample': [0.7633744443022432,\n",
       "                                                      0.5901660593287321,\n",
       "                                                      0.8113197920917392]},\n",
       "                   scoring='f1_weighted', verbose=3)"
      ]
     },
     "execution_count": 148,
     "metadata": {},
     "output_type": "execute_result"
    }
   ],
   "source": [
    "import xgboost as xgb\n",
    "import random\n",
    "from scipy import stats\n",
    "from sklearn.model_selection import KFold\n",
    "\n",
    "\n",
    "xgb_clf = xgb.XGBClassifier(use_label_encoder=False, objective='multi:softmax')\n",
    "param_dist = {\n",
    "    'n_estimators': [int(x) for x in np.linspace(start=20, stop=200, num=10)],\n",
    "    'learning_rate': [0.001, 0.003, 0.01, 0.03, 0.1, 0.3],\n",
    "    'subsample': np.random.uniform(low=0.3, high=0.9, size=3).tolist(),\n",
    "    'max_depth': [int(x) for x in np.linspace(20, 100, num=5)],\n",
    "    'colsample_bytree': np.random.uniform(low=0.5, high=0.9, size=3).tolist()\n",
    "}\n",
    "\n",
    "numFolds = 3\n",
    "kfold_5 = KFold(random_state=1, shuffle = True, n_splits = numFolds)\n",
    "\n",
    "xgb_random = RandomizedSearchCV(xgb_clf, \n",
    "                         param_distributions = param_dist,\n",
    "                         cv = kfold_5,\n",
    "                         n_iter = 50,\n",
    "                         scoring = 'f1_weighted', \n",
    "                         error_score = 0, \n",
    "                         verbose = 3, \n",
    "                         n_jobs = -1)\n",
    "\n",
    "xgb_random.fit(X_train,y_train, eval_metric='mlogloss')"
   ]
  },
  {
   "cell_type": "code",
   "execution_count": 149,
   "id": "45c66f86",
   "metadata": {},
   "outputs": [
    {
     "name": "stdout",
     "output_type": "stream",
     "text": [
      "Best parameters : {'subsample': 0.7633744443022432, 'n_estimators': 140, 'max_depth': 100, 'learning_rate': 0.001, 'colsample_bytree': 0.8693058013111807}\n",
      "Best cross-validation score : 0.76\n"
     ]
    }
   ],
   "source": [
    "print(\"Best parameters : {}\".format(xgb_random.best_params_))\n",
    "print(\"Best cross-validation score : {:.2f}\".format(xgb_random.best_score_))"
   ]
  },
  {
   "cell_type": "markdown",
   "id": "b9b8724d",
   "metadata": {},
   "source": [
    "Calculation of the Average Model Performance by Cross-Validation\n",
    "\n",
    "Then we display it: (73.5%)"
   ]
  },
  {
   "cell_type": "markdown",
   "id": "491212e2",
   "metadata": {},
   "source": [
    "The XGBoost model performs almost no better than a Random Forest model. It is possible that the hyperparameters need more tuning, or that more data is needed (but to train this model it already takes about 15 minutes with our computational capabilities) or that the model has difficulty approaching the decision function because the data is close and it risks overfitting."
   ]
  },
  {
   "cell_type": "markdown",
   "id": "4f97c642",
   "metadata": {},
   "source": [
    "# Model Evaluation:\n",
    "We now evaluate the selected model on the Test Set."
   ]
  },
  {
   "cell_type": "code",
   "execution_count": 151,
   "id": "63699006",
   "metadata": {},
   "outputs": [],
   "source": [
    "model = xgb_random"
   ]
  },
  {
   "cell_type": "code",
   "execution_count": 152,
   "id": "a872c504",
   "metadata": {},
   "outputs": [
    {
     "name": "stdout",
     "output_type": "stream",
     "text": [
      "Test set score : 0.77\n"
     ]
    }
   ],
   "source": [
    "print(\"Test set score : {:.2f}\".format(model.score(X_test, y_test)))"
   ]
  },
  {
   "cell_type": "markdown",
   "id": "a4f350ca",
   "metadata": {},
   "source": [
    "The model gives us a score of 74% on the test set, which is a very good start. The model generalizes well to data it has never seen before."
   ]
  },
  {
   "cell_type": "markdown",
   "id": "40398e37",
   "metadata": {},
   "source": [
    "### Model Selection:\n",
    "\n",
    "We will now select the model with the best performance by cross-validation, which is the XGBoost model."
   ]
  },
  {
   "cell_type": "code",
   "execution_count": 153,
   "id": "a2f804d3",
   "metadata": {},
   "outputs": [],
   "source": [
    "model = xgb_random"
   ]
  },
  {
   "cell_type": "markdown",
   "id": "7b9bf8dc",
   "metadata": {},
   "source": [
    "Classification Report and Confusion Matrix:"
   ]
  },
  {
   "cell_type": "code",
   "execution_count": 154,
   "id": "78d0cdd8",
   "metadata": {},
   "outputs": [
    {
     "name": "stdout",
     "output_type": "stream",
     "text": [
      "              precision    recall  f1-score   support\n",
      "\n",
      "       ODATP       0.79      0.63      0.70      8970\n",
      "        ODAP       0.76      0.89      0.82     12828\n",
      "      OAPHSD       0.79      0.61      0.69      1920\n",
      "\n",
      "    accuracy                           0.77     23718\n",
      "   macro avg       0.78      0.71      0.74     23718\n",
      "weighted avg       0.77      0.77      0.77     23718\n",
      "\n"
     ]
    },
    {
     "data": {
      "image/png": "[encoded data removed]",
      "text/plain": [
       "<Figure size 640x480 with 2 Axes>"
      ]
     },
     "metadata": {},
     "output_type": "display_data"
    }
   ],
   "source": [
    "from sklearn import metrics\n",
    "\n",
    "y_pred = model.predict(X_test)\n",
    "target_names = ['ODATP', 'ODAP', 'OAPHSD']\n",
    "print(metrics.classification_report(y_test, y_pred, target_names=target_names))\n",
    "sns.heatmap(metrics.confusion_matrix(y_test,y_pred),annot=True,fmt='3.0f',cmap='magma')\n",
    "plt.title('Confusion Matrix', y=1.05, size=15)\n",
    "plt.show()"
   ]
  },
  {
   "cell_type": "markdown",
   "id": "8998d0fc",
   "metadata": {},
   "source": [
    "We observe below that the model has difficulty differentiating crimes in the ODATP category from the ODAP category and makes mistakes very often."
   ]
  },
  {
   "cell_type": "markdown",
   "metadata": {},
   "source": []
  }
 ],
 "metadata": {
  "kernelspec": {
   "display_name": "Python 3 (ipykernel)",
   "language": "python",
   "name": "python3"
  },
  "language_info": {
   "codemirror_mode": {
    "name": "ipython",
    "version": 3
   },
   "file_extension": ".py",
   "mimetype": "text/x-python",
   "name": "python",
   "nbconvert_exporter": "python",
   "pygments_lexer": "ipython3",
   "version": "3.11.5"
  }
 },
 "nbformat": 4,
 "nbformat_minor": 5
}
